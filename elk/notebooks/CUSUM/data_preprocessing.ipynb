{
  "nbformat": 4,
  "nbformat_minor": 0,
  "metadata": {
    "colab": {
      "provenance": []
    },
    "kernelspec": {
      "name": "python3",
      "display_name": "Python 3"
    },
    "language_info": {
      "name": "python"
    }
  },
  "cells": [
    {
      "cell_type": "code",
      "source": [
        "from sklearn.preprocessing import OneHotEncoder, MinMaxScaler\n",
        "import pandas as pd\n",
        "import joblib\n",
        "\n",
        "df = pd.read_csv('/content/Normal.csv', encoding='utf-8').iloc[:,1:-1]"
      ],
      "metadata": {
        "id": "K28fzbB_NXOr"
      },
      "execution_count": 21,
      "outputs": []
    },
    {
      "cell_type": "code",
      "source": [
        "# @title One Hot Encoding and Scaling - saving encoder and scaler\n",
        "data = df.copy()\n",
        "# Define the categorical columns and their possible values\n",
        "categorical_columns = ['P601', 'P602', 'P603']\n",
        "categories = [list(range(3))] * len(categorical_columns)  # Values 0, 1, 2 for all columns\n",
        "\n",
        "# One-Hot Encoding\n",
        "encoder = OneHotEncoder(sparse_output=False, drop=None, categories=categories)\n",
        "encoded_features = encoder.fit_transform(data[categorical_columns])\n",
        "\n",
        "# Convert encoded features to a DataFrame\n",
        "encoded_feature_names = encoder.get_feature_names_out(categorical_columns)\n",
        "encoded_df = pd.DataFrame(encoded_features, columns=encoded_feature_names, index=data.index)\n",
        "\n",
        "# Save the OneHotEncoder for future use\n",
        "joblib.dump(encoder, \"onehot_encoder.pkl\")\n",
        "\n",
        "# Drop the original categorical columns and concatenate the encoded columns\n",
        "data = pd.concat([data.drop(columns=categorical_columns), encoded_df], axis=1)\n",
        "\n",
        "# Separate the non-categorical columns\n",
        "non_categorical_columns = [col for col in data.columns if col not in encoded_feature_names]\n",
        "\n",
        "# Scale only the non-categorical columns\n",
        "scaler = MinMaxScaler()\n",
        "scaled_non_categorical = scaler.fit_transform(data[non_categorical_columns])\n",
        "\n",
        "# Convert scaled data back to a DataFrame\n",
        "scaled_non_categorical_df = pd.DataFrame(scaled_non_categorical, columns=non_categorical_columns, index=data.index)\n",
        "\n",
        "# Combine the scaled non-categorical columns with the encoded categorical columns\n",
        "final_data = pd.concat([scaled_non_categorical_df, encoded_df], axis=1)\n",
        "\n",
        "# Save the MinMaxScaler for future use\n",
        "joblib.dump(scaler, \"minmax_scaler.pkl\")\n",
        "\n",
        "# Display the result\n",
        "print(\"Encoded and Scaled Data:\")\n",
        "print(final_data)\n"
      ],
      "metadata": {
        "colab": {
          "base_uri": "https://localhost:8080/"
        },
        "cellView": "form",
        "id": "PXxAtbr-NWQP",
        "outputId": "7ea86ba0-943e-4f9d-d089-897b7c72d252"
      },
      "execution_count": 23,
      "outputs": [
        {
          "output_type": "stream",
          "name": "stdout",
          "text": [
            "Encoded and Scaled Data:\n",
            "          FIT101    LIT101  MV101  P101  P102    AIT201   AIT202    AIT203  \\\n",
            "0       0.899895  0.160292    1.0   1.0   0.0  0.000000  0.00000  0.019710   \n",
            "1       0.895111  0.159845    1.0   1.0   0.0  0.000000  0.00000  0.019710   \n",
            "2       0.888694  0.159533    1.0   1.0   0.0  0.000000  0.00000  0.019710   \n",
            "3       0.884611  0.158819    1.0   1.0   0.0  0.000000  0.00000  0.019710   \n",
            "4       0.883327  0.158372    1.0   1.0   0.0  0.003408  0.00000  0.019710   \n",
            "...          ...       ...    ...   ...   ...       ...      ...       ...   \n",
            "496795  0.896278  0.457619    1.0   1.0   0.0  0.627270  0.25853  0.103740   \n",
            "496796  0.892078  0.457530    1.0   1.0   0.0  0.627270  0.25853  0.103740   \n",
            "496797  0.886944  0.457440    1.0   1.0   0.0  0.627270  0.25853  0.104221   \n",
            "496798  0.884611  0.457485    1.0   1.0   0.0  0.627270  0.25853  0.104221   \n",
            "496799  0.884144  0.457396    1.0   1.0   0.0  0.627270  0.25853  0.104221   \n",
            "\n",
            "          FIT201  MV201  ...    FIT601  P601_0  P601_1  P601_2  P602_0  \\\n",
            "0       0.993304    1.0  ...  0.000147     0.0     1.0     0.0     0.0   \n",
            "1       0.992222    1.0  ...  0.000147     0.0     1.0     0.0     0.0   \n",
            "2       0.991707    1.0  ...  0.000147     0.0     1.0     0.0     0.0   \n",
            "3       0.991398    1.0  ...  0.000147     0.0     1.0     0.0     0.0   \n",
            "4       0.991398    1.0  ...  0.000147     0.0     1.0     0.0     0.0   \n",
            "...          ...    ...  ...       ...     ...     ...     ...     ...   \n",
            "496795  0.981663    1.0  ...  0.000073     0.0     1.0     0.0     0.0   \n",
            "496796  0.981663    1.0  ...  0.000073     0.0     1.0     0.0     0.0   \n",
            "496797  0.982693    1.0  ...  0.000073     0.0     1.0     0.0     0.0   \n",
            "496798  0.982899    1.0  ...  0.000073     0.0     1.0     0.0     0.0   \n",
            "496799  0.982899    1.0  ...  0.000073     0.0     1.0     0.0     0.0   \n",
            "\n",
            "        P602_1  P602_2  P603_0  P603_1  P603_2  \n",
            "0          1.0     0.0     0.0     1.0     0.0  \n",
            "1          1.0     0.0     0.0     1.0     0.0  \n",
            "2          1.0     0.0     0.0     1.0     0.0  \n",
            "3          1.0     0.0     0.0     1.0     0.0  \n",
            "4          1.0     0.0     0.0     1.0     0.0  \n",
            "...        ...     ...     ...     ...     ...  \n",
            "496795     1.0     0.0     0.0     1.0     0.0  \n",
            "496796     1.0     0.0     0.0     1.0     0.0  \n",
            "496797     1.0     0.0     0.0     1.0     0.0  \n",
            "496798     1.0     0.0     0.0     1.0     0.0  \n",
            "496799     1.0     0.0     0.0     1.0     0.0  \n",
            "\n",
            "[496800 rows x 57 columns]\n"
          ]
        }
      ]
    },
    {
      "cell_type": "code",
      "source": [
        "# @title CUSUM\n",
        "import pandas as pd\n",
        "from sklearn.preprocessing import MinMaxScaler\n",
        "import joblib\n",
        "from sklearn.preprocessing import OneHotEncoder\n",
        "\n",
        "def save_cusum_parameters(df, output_file, scaler_file=\"minmax_scaler.pkl\", encoder_file=\"onehot_encoder.pkl\", threshold_scale=3):\n",
        "    \"\"\"\n",
        "    Reads a CSV file, applies OneHotEncoding and MinMaxScaling using pre-trained encoder and scaler,\n",
        "    and saves reference values and thresholds for each feature to a file.\n",
        "\n",
        "    Parameters:\n",
        "        df\n",
        "        output_file (str): Path to save the reference parameters as a CSV.\n",
        "        scaler_file (str): Path to load the MinMaxScaler.\n",
        "        encoder_file (str): Path to load the OneHotEncoder.\n",
        "        threshold_scale (float): Scaling factor for the decision threshold based on standard deviation.\n",
        "    \"\"\"\n",
        "    # Load the pre-trained encoder and scaler\n",
        "    encoder = joblib.load(encoder_file)\n",
        "    scaler = joblib.load(scaler_file)\n",
        "\n",
        "    # Identify categorical and numerical columns\n",
        "    categorical_columns = ['P601', 'P602', 'P603']  # Update with actual categorical columns\n",
        "    numerical_columns = [col for col in df.columns if col not in categorical_columns]\n",
        "\n",
        "    # Apply One-Hot Encoding using the pre-trained encoder\n",
        "    encoded_features = encoder.transform(df[categorical_columns])\n",
        "    encoded_df = pd.DataFrame(encoded_features, columns=encoder.get_feature_names_out(categorical_columns))\n",
        "\n",
        "    # Apply MinMax Scaling using the pre-trained scaler\n",
        "    scaled_features = scaler.transform(df[numerical_columns])\n",
        "    scaled_df = pd.DataFrame(scaled_features, columns=numerical_columns)\n",
        "\n",
        "    # Combine encoded and scaled data\n",
        "    processed_df = pd.concat([encoded_df, scaled_df], axis=1)\n",
        "\n",
        "    # Calculate parameters for each feature\n",
        "    parameters = {\n",
        "        \"Feature\": [],\n",
        "        \"ReferenceValue\": [],\n",
        "        \"DriftThreshold\": [],\n",
        "        \"DecisionThreshold\": [],\n",
        "    }\n",
        "\n",
        "    for column_name in processed_df.columns:\n",
        "        values = processed_df[column_name]\n",
        "        reference_value = values.mean()\n",
        "        drift_threshold = values.std() * 0.1\n",
        "        decision_threshold = values.std() * threshold_scale\n",
        "\n",
        "        parameters[\"Feature\"].append(column_name)\n",
        "        parameters[\"ReferenceValue\"].append(reference_value)\n",
        "        parameters[\"DriftThreshold\"].append(drift_threshold)\n",
        "        parameters[\"DecisionThreshold\"].append(decision_threshold)\n",
        "\n",
        "    # Save to CSV\n",
        "    pd.DataFrame(parameters).to_csv(output_file, index=False)\n",
        "    print(f\"Parameters saved to {output_file}, using scaler from {scaler_file}, and encoder from {encoder_file}\")\n",
        "\n",
        "\n",
        "output_csv = \"reference_params.csv\"\n",
        "scaler_file = \"minmax_scaler.pkl\"\n",
        "encoder_file = \"onehot_encoder.pkl\"\n",
        "save_cusum_parameters(df, output_csv, scaler_file, encoder_file)\n"
      ],
      "metadata": {
        "colab": {
          "base_uri": "https://localhost:8080/"
        },
        "cellView": "form",
        "id": "PsTz8VPi-wDv",
        "outputId": "c37ced18-0114-4a71-bfa3-1904d5eca298"
      },
      "execution_count": 24,
      "outputs": [
        {
          "output_type": "stream",
          "name": "stdout",
          "text": [
            "Parameters saved to reference_params.csv, using scaler from minmax_scaler.pkl, and encoder from onehot_encoder.pkl\n"
          ]
        }
      ]
    }
  ]
}
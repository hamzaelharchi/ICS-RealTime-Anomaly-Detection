{
 "cells": [
  {
   "cell_type": "code",
   "execution_count": null,
   "metadata": {},
   "outputs": [],
   "source": [
    "from confluent_kafka import Producer\n",
    "import csv\n",
    "import time\n",
    "\n",
    "# Define the Kafka broker and topic\n",
    "broker = 'localhost:9092' \n",
    "topic = 'devices'  # Change to your Kafka topic\n",
    "\n",
    "# Create a Kafka producer instance\n",
    "producer = Producer({'bootstrap.servers': broker})\n",
    "\n",
    "# Define a function to read the CSV file and send its data to Kafka\n",
    "def send_data_to_kafka(file_path):\n",
    "    with open(file_path, 'r') as csv_file:\n",
    "        csv_reader = csv.DictReader(csv_file)\n",
    "        for row in csv_reader:\n",
    "            print(row)\n",
    "            # Convert the CSV row to a message that can be sent to Kafka\n",
    "            message_value = ','.join([f\"{key}={value}\" for key, value in row.items()])\n",
    "            producer.produce(topic=topic, value=message_value, key=row['\\ufeffTimestamp'])\n",
    "            time.sleep(3)\n",
    "    producer.flush()\n",
    "\n",
    "# Specify the path to your CSV file\n",
    "csv_file_path = 'Normal.csv' \n",
    "\n",
    "send_data_to_kafka(csv_file_path)"
   ]
  }
 ],
 "metadata": {
  "kernelspec": {
   "display_name": "kafkapython",
   "language": "python",
   "name": "python3"
  },
  "language_info": {
   "name": "python",
   "version": "3.13.0"
  }
 },
 "nbformat": 4,
 "nbformat_minor": 2
}

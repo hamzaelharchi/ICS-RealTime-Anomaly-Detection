{
  "cells": [
    {
      "cell_type": "code",
      "execution_count": 1,
      "metadata": {
        "id": "rfbk-en9Y7FM"
      },
      "outputs": [],
      "source": [
        "import numpy as np\n",
        "import pandas as pd\n",
        "import matplotlib.pyplot as plt\n",
        "import seaborn as sns\n",
        "import torch\n",
        "import torch.nn as nn\n",
        "\n",
        "# from utils import *\n",
        "# from usad import *"
      ]
    },
    {
      "cell_type": "markdown",
      "metadata": {
        "id": "p2nLAlp2a2Io"
      },
      "source": [
        "## Utils\n"
      ]
    },
    {
      "cell_type": "code",
      "execution_count": 3,
      "metadata": {
        "id": "bjPCrCnUa49i"
      },
      "outputs": [],
      "source": [
        "import numpy as np\n",
        "import pandas as pd\n",
        "import matplotlib.pyplot as plt\n",
        "import seaborn as sns\n",
        "import torch\n",
        "\n",
        "from sklearn.metrics import roc_curve,roc_auc_score\n",
        "\n",
        "def get_default_device():\n",
        "    \"\"\"Pick GPU if available, else CPU\"\"\"\n",
        "    if torch.cuda.is_available():\n",
        "        print('Cuda Available!!!')\n",
        "        return torch.device('cuda')\n",
        "    else:\n",
        "        print('On CPU...')\n",
        "\n",
        "        return torch.device('cpu')\n",
        "\n",
        "def to_device(data, device):\n",
        "    \"\"\"Move tensor(s) to chosen device\"\"\"\n",
        "    if isinstance(data, (list,tuple)):\n",
        "        return [to_device(x, device) for x in data]\n",
        "    return data.to(device, non_blocking=True)\n",
        "\n",
        "def plot_history(history):\n",
        "    losses1 = [x['val_loss1'] for x in history]\n",
        "    losses2 = [x['val_loss2'] for x in history]\n",
        "    plt.plot(losses1, '-x', label=\"loss1\")\n",
        "    plt.plot(losses2, '-x', label=\"loss2\")\n",
        "    plt.xlabel('epoch')\n",
        "    plt.ylabel('loss')\n",
        "    plt.legend()\n",
        "    plt.title('Losses vs. No. of epochs')\n",
        "    plt.grid()\n",
        "    plt.show()\n",
        "\n",
        "def histogram(y_test,y_pred):\n",
        "    plt.figure(figsize=(12,6))\n",
        "    plt.hist([y_pred[y_test==0],\n",
        "              y_pred[y_test==1]],\n",
        "            bins=20,\n",
        "            color = ['#82E0AA','#EC7063'],stacked=True)\n",
        "    plt.title(\"Results\",size=20)\n",
        "    plt.grid()\n",
        "    plt.show()\n",
        "\n",
        "def ROC(y_test,y_pred):\n",
        "    fpr,tpr,tr=roc_curve(y_test,y_pred)\n",
        "    auc=roc_auc_score(y_test,y_pred)\n",
        "    idx=np.argwhere(np.diff(np.sign(tpr-(1-fpr)))).flatten()\n",
        "\n",
        "    plt.xlabel(\"FPR\")\n",
        "    plt.ylabel(\"TPR\")\n",
        "    plt.plot(fpr,tpr,label=\"AUC=\"+str(auc))\n",
        "    plt.plot(fpr,1-fpr,'r:')\n",
        "    plt.plot(fpr[idx],tpr[idx], 'ro')\n",
        "    plt.legend(loc=4)\n",
        "    plt.grid()\n",
        "    plt.show()\n",
        "    return tr[idx]\n",
        "\n",
        "def confusion_matrix(target, predicted, perc=False):\n",
        "\n",
        "    data = {'y_Actual':    target,\n",
        "            'y_Predicted': predicted\n",
        "            }\n",
        "    df = pd.DataFrame(data, columns=['y_Predicted','y_Actual'])\n",
        "    confusion_matrix = pd.crosstab(df['y_Predicted'], df['y_Actual'], rownames=['Predicted'], colnames=['Actual'])\n",
        "\n",
        "    if perc:\n",
        "        sns.heatmap(confusion_matrix/np.sum(confusion_matrix), annot=True, fmt='.2%', cmap='Blues')\n",
        "    else:\n",
        "        sns.heatmap(confusion_matrix, annot=True, fmt='d')\n",
        "    plt.show()"
      ]
    },
    {
      "cell_type": "markdown",
      "metadata": {
        "id": "VNZsqBDJbBN8"
      },
      "source": [
        "## USAD model"
      ]
    },
    {
      "cell_type": "code",
      "execution_count": 5,
      "metadata": {
        "id": "p6CF4sEBbCvy"
      },
      "outputs": [
        {
          "name": "stdout",
          "output_type": "stream",
          "text": [
            "Cuda Available!!!\n"
          ]
        }
      ],
      "source": [
        "import torch\n",
        "import torch.nn as nn\n",
        "\n",
        "# from utils import *\n",
        "device = get_default_device()\n",
        "\n",
        "class Encoder(nn.Module):\n",
        "  def __init__(self, in_size, latent_size):\n",
        "    super().__init__()\n",
        "    self.linear1 = nn.Linear(in_size, int(in_size/2))\n",
        "    self.linear2 = nn.Linear(int(in_size/2), int(in_size/4))\n",
        "    self.linear3 = nn.Linear(int(in_size/4), latent_size)\n",
        "    self.relu = nn.ReLU(True)\n",
        "\n",
        "  def forward(self, w):\n",
        "    out = self.linear1(w)\n",
        "    out = self.relu(out)\n",
        "    out = self.linear2(out)\n",
        "    out = self.relu(out)\n",
        "    out = self.linear3(out)\n",
        "    z = self.relu(out)\n",
        "    return z\n",
        "\n",
        "class Decoder(nn.Module):\n",
        "  def __init__(self, latent_size, out_size):\n",
        "    super().__init__()\n",
        "    self.linear1 = nn.Linear(latent_size, int(out_size/4))\n",
        "    self.linear2 = nn.Linear(int(out_size/4), int(out_size/2))\n",
        "    self.linear3 = nn.Linear(int(out_size/2), out_size)\n",
        "    self.relu = nn.ReLU(True)\n",
        "    self.sigmoid = nn.Sigmoid()\n",
        "\n",
        "  def forward(self, z):\n",
        "    out = self.linear1(z)\n",
        "    out = self.relu(out)\n",
        "    out = self.linear2(out)\n",
        "    out = self.relu(out)\n",
        "    out = self.linear3(out)\n",
        "    w = self.sigmoid(out)\n",
        "    return w\n",
        "\n",
        "class UsadModel(nn.Module):\n",
        "  def __init__(self, w_size, z_size):\n",
        "    super().__init__()\n",
        "    self.encoder = Encoder(w_size, z_size)\n",
        "    self.decoder1 = Decoder(z_size, w_size)\n",
        "    self.decoder2 = Decoder(z_size, w_size)\n",
        "\n",
        "  def training_step(self, batch, n):\n",
        "    z = self.encoder(batch)\n",
        "    w1 = self.decoder1(z)\n",
        "    w2 = self.decoder2(z)\n",
        "    w3 = self.decoder2(self.encoder(w1))\n",
        "    loss1 = 1/n*torch.mean((batch-w1)**2)+(1-1/n)*torch.mean((batch-w3)**2)\n",
        "    loss2 = 1/n*torch.mean((batch-w2)**2)-(1-1/n)*torch.mean((batch-w3)**2)\n",
        "    return loss1,loss2\n",
        "\n",
        "  def validation_step(self, batch, n):\n",
        "    with torch.no_grad():\n",
        "        z = self.encoder(batch)\n",
        "        w1 = self.decoder1(z)\n",
        "        w2 = self.decoder2(z)\n",
        "        w3 = self.decoder2(self.encoder(w1))\n",
        "        loss1 = 1/n*torch.mean((batch-w1)**2)+(1-1/n)*torch.mean((batch-w3)**2)\n",
        "        loss2 = 1/n*torch.mean((batch-w2)**2)-(1-1/n)*torch.mean((batch-w3)**2)\n",
        "    return {'val_loss1': loss1, 'val_loss2': loss2}\n",
        "\n",
        "  def validation_epoch_end(self, outputs):\n",
        "    batch_losses1 = [x['val_loss1'] for x in outputs]\n",
        "    epoch_loss1 = torch.stack(batch_losses1).mean()\n",
        "    batch_losses2 = [x['val_loss2'] for x in outputs]\n",
        "    epoch_loss2 = torch.stack(batch_losses2).mean()\n",
        "    return {'val_loss1': epoch_loss1.item(), 'val_loss2': epoch_loss2.item()}\n",
        "\n",
        "  def epoch_end(self, epoch, result):\n",
        "    print(\"Epoch [{}], val_loss1: {:.4f}, val_loss2: {:.4f}\".format(epoch, result['val_loss1'], result['val_loss2']))\n",
        "\n",
        "def evaluate(model, val_loader, n):\n",
        "    outputs = [model.validation_step(to_device(batch,device), n) for [batch] in val_loader]\n",
        "    return model.validation_epoch_end(outputs)\n",
        "\n",
        "def training(epochs, model, train_loader, val_loader, opt_func=torch.optim.Adam):\n",
        "    history = []\n",
        "    optimizer1 = opt_func(list(model.encoder.parameters())+list(model.decoder1.parameters()))\n",
        "    optimizer2 = opt_func(list(model.encoder.parameters())+list(model.decoder2.parameters()))\n",
        "    for epoch in range(epochs):\n",
        "        print(f'Epoch ', epoch)\n",
        "        for [batch] in train_loader:\n",
        "            batch=to_device(batch,device)\n",
        "\n",
        "            #Train AE1\n",
        "            loss1,loss2 = model.training_step(batch,epoch+1)\n",
        "            loss1.backward()\n",
        "            optimizer1.step()\n",
        "            optimizer1.zero_grad()\n",
        "\n",
        "\n",
        "            #Train AE2\n",
        "            loss1,loss2 = model.training_step(batch,epoch+1)\n",
        "            loss2.backward()\n",
        "            optimizer2.step()\n",
        "            optimizer2.zero_grad()\n",
        "\n",
        "\n",
        "        result = evaluate(model, val_loader, epoch+1)\n",
        "        model.epoch_end(epoch, result)\n",
        "        history.append(result)\n",
        "    return history\n",
        "\n",
        "def testing(model, test_loader, alpha=.5, beta=.5):\n",
        "    results=[]\n",
        "    with torch.no_grad():\n",
        "        for [batch] in test_loader:\n",
        "            batch=to_device(batch,device)\n",
        "            w1=model.decoder1(model.encoder(batch))\n",
        "            w2=model.decoder2(model.encoder(w1))\n",
        "            results.append(alpha*torch.mean((batch-w1)**2,axis=1)+beta*torch.mean((batch-w2)**2,axis=1))\n",
        "    return results"
      ]
    },
    {
      "cell_type": "markdown",
      "metadata": {
        "id": "-_UVZ3CvaD73"
      },
      "source": [
        "## Normal"
      ]
    },
    {
      "cell_type": "code",
      "execution_count": 32,
      "metadata": {
        "colab": {
          "base_uri": "https://localhost:8080/"
        },
        "id": "Uf6dp0uEY5O8",
        "outputId": "f3b5457a-42a5-4858-a185-fda48dd31914"
      },
      "outputs": [
        {
          "data": {
            "text/plain": [
              "(10000, 50)"
            ]
          },
          "execution_count": 32,
          "metadata": {},
          "output_type": "execute_result"
        }
      ],
      "source": [
        "# normal = pd.read_csv(\"../Normal.csv\", nrows=10000)\n",
        "# normal = pd.read_csv('../Preprocessing/preprocessed_normal_data.csv', nrows=10000)\n",
        "normal = pd.read_csv('../Preprocessing/normal_data_with_pca.csv', nrows=10000)\n",
        "\n",
        "normal = normal.drop([\"Timestamp\" , \"Normal/Attack\" ] , axis = 1)\n",
        "normal.shape"
      ]
    },
    {
      "cell_type": "code",
      "execution_count": 33,
      "metadata": {
        "colab": {
          "base_uri": "https://localhost:8080/",
          "height": 423
        },
        "id": "1tjQZGptZc5U",
        "outputId": "af9b4176-e1b2-47f7-ad8b-5acab37c6c5c"
      },
      "outputs": [
        {
          "data": {
            "text/html": [
              "<div>\n",
              "<style scoped>\n",
              "    .dataframe tbody tr th:only-of-type {\n",
              "        vertical-align: middle;\n",
              "    }\n",
              "\n",
              "    .dataframe tbody tr th {\n",
              "        vertical-align: top;\n",
              "    }\n",
              "\n",
              "    .dataframe thead th {\n",
              "        text-align: right;\n",
              "    }\n",
              "</style>\n",
              "<table border=\"1\" class=\"dataframe\">\n",
              "  <thead>\n",
              "    <tr style=\"text-align: right;\">\n",
              "      <th></th>\n",
              "      <th>PCA_1</th>\n",
              "      <th>PCA_2</th>\n",
              "      <th>PCA_3</th>\n",
              "      <th>PCA_4</th>\n",
              "      <th>PCA_5</th>\n",
              "      <th>PCA_6</th>\n",
              "      <th>PCA_7</th>\n",
              "      <th>PCA_8</th>\n",
              "      <th>PCA_9</th>\n",
              "      <th>PCA_10</th>\n",
              "      <th>...</th>\n",
              "      <th>PCA_41</th>\n",
              "      <th>PCA_42</th>\n",
              "      <th>PCA_43</th>\n",
              "      <th>PCA_44</th>\n",
              "      <th>PCA_45</th>\n",
              "      <th>PCA_46</th>\n",
              "      <th>PCA_47</th>\n",
              "      <th>PCA_48</th>\n",
              "      <th>PCA_49</th>\n",
              "      <th>PCA_50</th>\n",
              "    </tr>\n",
              "  </thead>\n",
              "  <tbody>\n",
              "    <tr>\n",
              "      <th>0</th>\n",
              "      <td>-0.765288</td>\n",
              "      <td>0.680210</td>\n",
              "      <td>-0.208207</td>\n",
              "      <td>0.167559</td>\n",
              "      <td>-0.305226</td>\n",
              "      <td>-0.288559</td>\n",
              "      <td>0.080335</td>\n",
              "      <td>-0.083534</td>\n",
              "      <td>0.640262</td>\n",
              "      <td>0.261579</td>\n",
              "      <td>...</td>\n",
              "      <td>-0.012005</td>\n",
              "      <td>0.088227</td>\n",
              "      <td>0.999706</td>\n",
              "      <td>2.360443e-12</td>\n",
              "      <td>9.931964e-13</td>\n",
              "      <td>-4.022981e-13</td>\n",
              "      <td>1.690585e-12</td>\n",
              "      <td>-1.559091e-12</td>\n",
              "      <td>6.365321e-14</td>\n",
              "      <td>-5.291445e-13</td>\n",
              "    </tr>\n",
              "    <tr>\n",
              "      <th>1</th>\n",
              "      <td>-0.764532</td>\n",
              "      <td>0.679727</td>\n",
              "      <td>-0.205827</td>\n",
              "      <td>0.167724</td>\n",
              "      <td>-0.305651</td>\n",
              "      <td>-0.288532</td>\n",
              "      <td>0.080468</td>\n",
              "      <td>-0.084240</td>\n",
              "      <td>0.640245</td>\n",
              "      <td>0.261515</td>\n",
              "      <td>...</td>\n",
              "      <td>-0.012000</td>\n",
              "      <td>0.088227</td>\n",
              "      <td>0.999706</td>\n",
              "      <td>2.360443e-12</td>\n",
              "      <td>9.931964e-13</td>\n",
              "      <td>-4.022981e-13</td>\n",
              "      <td>1.690598e-12</td>\n",
              "      <td>-1.559091e-12</td>\n",
              "      <td>6.365321e-14</td>\n",
              "      <td>-5.291445e-13</td>\n",
              "    </tr>\n",
              "    <tr>\n",
              "      <th>2</th>\n",
              "      <td>-0.764098</td>\n",
              "      <td>0.678547</td>\n",
              "      <td>-0.202614</td>\n",
              "      <td>0.167957</td>\n",
              "      <td>-0.306274</td>\n",
              "      <td>-0.288656</td>\n",
              "      <td>0.080641</td>\n",
              "      <td>-0.084925</td>\n",
              "      <td>0.640409</td>\n",
              "      <td>0.261429</td>\n",
              "      <td>...</td>\n",
              "      <td>-0.012001</td>\n",
              "      <td>0.088227</td>\n",
              "      <td>0.999706</td>\n",
              "      <td>2.360429e-12</td>\n",
              "      <td>9.931964e-13</td>\n",
              "      <td>-4.022981e-13</td>\n",
              "      <td>1.690585e-12</td>\n",
              "      <td>-1.559091e-12</td>\n",
              "      <td>6.365321e-14</td>\n",
              "      <td>-5.291445e-13</td>\n",
              "    </tr>\n",
              "    <tr>\n",
              "      <th>3</th>\n",
              "      <td>-0.763698</td>\n",
              "      <td>0.678123</td>\n",
              "      <td>-0.200553</td>\n",
              "      <td>0.168150</td>\n",
              "      <td>-0.306551</td>\n",
              "      <td>-0.288655</td>\n",
              "      <td>0.080737</td>\n",
              "      <td>-0.085728</td>\n",
              "      <td>0.640386</td>\n",
              "      <td>0.261433</td>\n",
              "      <td>...</td>\n",
              "      <td>-0.012001</td>\n",
              "      <td>0.088227</td>\n",
              "      <td>0.999706</td>\n",
              "      <td>2.360429e-12</td>\n",
              "      <td>9.931964e-13</td>\n",
              "      <td>-4.022981e-13</td>\n",
              "      <td>1.690585e-12</td>\n",
              "      <td>-1.559091e-12</td>\n",
              "      <td>6.365321e-14</td>\n",
              "      <td>-5.291445e-13</td>\n",
              "    </tr>\n",
              "    <tr>\n",
              "      <th>4</th>\n",
              "      <td>-0.763604</td>\n",
              "      <td>0.678006</td>\n",
              "      <td>-0.199924</td>\n",
              "      <td>0.168249</td>\n",
              "      <td>-0.306638</td>\n",
              "      <td>-0.288636</td>\n",
              "      <td>0.080804</td>\n",
              "      <td>-0.086121</td>\n",
              "      <td>0.640387</td>\n",
              "      <td>0.261449</td>\n",
              "      <td>...</td>\n",
              "      <td>-0.011989</td>\n",
              "      <td>0.088227</td>\n",
              "      <td>0.999706</td>\n",
              "      <td>2.360415e-12</td>\n",
              "      <td>9.931964e-13</td>\n",
              "      <td>-4.022981e-13</td>\n",
              "      <td>1.690585e-12</td>\n",
              "      <td>-1.559091e-12</td>\n",
              "      <td>6.365321e-14</td>\n",
              "      <td>-5.291445e-13</td>\n",
              "    </tr>\n",
              "    <tr>\n",
              "      <th>...</th>\n",
              "      <td>...</td>\n",
              "      <td>...</td>\n",
              "      <td>...</td>\n",
              "      <td>...</td>\n",
              "      <td>...</td>\n",
              "      <td>...</td>\n",
              "      <td>...</td>\n",
              "      <td>...</td>\n",
              "      <td>...</td>\n",
              "      <td>...</td>\n",
              "      <td>...</td>\n",
              "      <td>...</td>\n",
              "      <td>...</td>\n",
              "      <td>...</td>\n",
              "      <td>...</td>\n",
              "      <td>...</td>\n",
              "      <td>...</td>\n",
              "      <td>...</td>\n",
              "      <td>...</td>\n",
              "      <td>...</td>\n",
              "      <td>...</td>\n",
              "    </tr>\n",
              "    <tr>\n",
              "      <th>9995</th>\n",
              "      <td>-0.479142</td>\n",
              "      <td>-0.303036</td>\n",
              "      <td>-0.370259</td>\n",
              "      <td>-0.476664</td>\n",
              "      <td>0.088241</td>\n",
              "      <td>-0.036851</td>\n",
              "      <td>0.027737</td>\n",
              "      <td>-0.165812</td>\n",
              "      <td>0.010153</td>\n",
              "      <td>-0.019924</td>\n",
              "      <td>...</td>\n",
              "      <td>-0.005144</td>\n",
              "      <td>0.005129</td>\n",
              "      <td>0.999710</td>\n",
              "      <td>2.357605e-12</td>\n",
              "      <td>9.815633e-13</td>\n",
              "      <td>-3.918690e-13</td>\n",
              "      <td>1.697333e-12</td>\n",
              "      <td>-1.566540e-12</td>\n",
              "      <td>5.908048e-14</td>\n",
              "      <td>-5.255501e-13</td>\n",
              "    </tr>\n",
              "    <tr>\n",
              "      <th>9996</th>\n",
              "      <td>-0.479060</td>\n",
              "      <td>-0.303040</td>\n",
              "      <td>-0.369688</td>\n",
              "      <td>-0.461190</td>\n",
              "      <td>0.087516</td>\n",
              "      <td>-0.036555</td>\n",
              "      <td>0.027408</td>\n",
              "      <td>-0.166810</td>\n",
              "      <td>0.009536</td>\n",
              "      <td>-0.019981</td>\n",
              "      <td>...</td>\n",
              "      <td>-0.005090</td>\n",
              "      <td>0.005129</td>\n",
              "      <td>0.999710</td>\n",
              "      <td>2.357591e-12</td>\n",
              "      <td>9.815772e-13</td>\n",
              "      <td>-3.918690e-13</td>\n",
              "      <td>1.697333e-12</td>\n",
              "      <td>-1.566540e-12</td>\n",
              "      <td>5.908048e-14</td>\n",
              "      <td>-5.255501e-13</td>\n",
              "    </tr>\n",
              "    <tr>\n",
              "      <th>9997</th>\n",
              "      <td>-0.479840</td>\n",
              "      <td>-0.304391</td>\n",
              "      <td>-0.369057</td>\n",
              "      <td>-0.440367</td>\n",
              "      <td>0.086605</td>\n",
              "      <td>-0.036200</td>\n",
              "      <td>0.027322</td>\n",
              "      <td>-0.167092</td>\n",
              "      <td>0.009390</td>\n",
              "      <td>-0.019730</td>\n",
              "      <td>...</td>\n",
              "      <td>-0.005019</td>\n",
              "      <td>0.005128</td>\n",
              "      <td>0.999710</td>\n",
              "      <td>2.357591e-12</td>\n",
              "      <td>9.815494e-13</td>\n",
              "      <td>-3.918412e-13</td>\n",
              "      <td>1.697346e-12</td>\n",
              "      <td>-1.566527e-12</td>\n",
              "      <td>5.908048e-14</td>\n",
              "      <td>-5.255501e-13</td>\n",
              "    </tr>\n",
              "    <tr>\n",
              "      <th>9998</th>\n",
              "      <td>-0.480058</td>\n",
              "      <td>-0.305400</td>\n",
              "      <td>-0.367082</td>\n",
              "      <td>-0.424596</td>\n",
              "      <td>0.085620</td>\n",
              "      <td>-0.036027</td>\n",
              "      <td>0.027312</td>\n",
              "      <td>-0.167799</td>\n",
              "      <td>0.009272</td>\n",
              "      <td>-0.019693</td>\n",
              "      <td>...</td>\n",
              "      <td>-0.005019</td>\n",
              "      <td>0.005126</td>\n",
              "      <td>0.999709</td>\n",
              "      <td>2.357591e-12</td>\n",
              "      <td>9.815494e-13</td>\n",
              "      <td>-3.918412e-13</td>\n",
              "      <td>1.697333e-12</td>\n",
              "      <td>-1.566527e-12</td>\n",
              "      <td>5.908048e-14</td>\n",
              "      <td>-5.255501e-13</td>\n",
              "    </tr>\n",
              "    <tr>\n",
              "      <th>9999</th>\n",
              "      <td>-0.479724</td>\n",
              "      <td>-0.305634</td>\n",
              "      <td>-0.365322</td>\n",
              "      <td>-0.413962</td>\n",
              "      <td>0.084931</td>\n",
              "      <td>-0.035704</td>\n",
              "      <td>0.027400</td>\n",
              "      <td>-0.168064</td>\n",
              "      <td>0.009161</td>\n",
              "      <td>-0.019638</td>\n",
              "      <td>...</td>\n",
              "      <td>-0.005034</td>\n",
              "      <td>0.005123</td>\n",
              "      <td>0.999709</td>\n",
              "      <td>2.357577e-12</td>\n",
              "      <td>9.815633e-13</td>\n",
              "      <td>-3.918412e-13</td>\n",
              "      <td>1.697333e-12</td>\n",
              "      <td>-1.566527e-12</td>\n",
              "      <td>5.908048e-14</td>\n",
              "      <td>-5.255501e-13</td>\n",
              "    </tr>\n",
              "  </tbody>\n",
              "</table>\n",
              "<p>10000 rows × 50 columns</p>\n",
              "</div>"
            ],
            "text/plain": [
              "         PCA_1     PCA_2     PCA_3     PCA_4     PCA_5     PCA_6     PCA_7  \\\n",
              "0    -0.765288  0.680210 -0.208207  0.167559 -0.305226 -0.288559  0.080335   \n",
              "1    -0.764532  0.679727 -0.205827  0.167724 -0.305651 -0.288532  0.080468   \n",
              "2    -0.764098  0.678547 -0.202614  0.167957 -0.306274 -0.288656  0.080641   \n",
              "3    -0.763698  0.678123 -0.200553  0.168150 -0.306551 -0.288655  0.080737   \n",
              "4    -0.763604  0.678006 -0.199924  0.168249 -0.306638 -0.288636  0.080804   \n",
              "...        ...       ...       ...       ...       ...       ...       ...   \n",
              "9995 -0.479142 -0.303036 -0.370259 -0.476664  0.088241 -0.036851  0.027737   \n",
              "9996 -0.479060 -0.303040 -0.369688 -0.461190  0.087516 -0.036555  0.027408   \n",
              "9997 -0.479840 -0.304391 -0.369057 -0.440367  0.086605 -0.036200  0.027322   \n",
              "9998 -0.480058 -0.305400 -0.367082 -0.424596  0.085620 -0.036027  0.027312   \n",
              "9999 -0.479724 -0.305634 -0.365322 -0.413962  0.084931 -0.035704  0.027400   \n",
              "\n",
              "         PCA_8     PCA_9    PCA_10  ...    PCA_41    PCA_42    PCA_43  \\\n",
              "0    -0.083534  0.640262  0.261579  ... -0.012005  0.088227  0.999706   \n",
              "1    -0.084240  0.640245  0.261515  ... -0.012000  0.088227  0.999706   \n",
              "2    -0.084925  0.640409  0.261429  ... -0.012001  0.088227  0.999706   \n",
              "3    -0.085728  0.640386  0.261433  ... -0.012001  0.088227  0.999706   \n",
              "4    -0.086121  0.640387  0.261449  ... -0.011989  0.088227  0.999706   \n",
              "...        ...       ...       ...  ...       ...       ...       ...   \n",
              "9995 -0.165812  0.010153 -0.019924  ... -0.005144  0.005129  0.999710   \n",
              "9996 -0.166810  0.009536 -0.019981  ... -0.005090  0.005129  0.999710   \n",
              "9997 -0.167092  0.009390 -0.019730  ... -0.005019  0.005128  0.999710   \n",
              "9998 -0.167799  0.009272 -0.019693  ... -0.005019  0.005126  0.999709   \n",
              "9999 -0.168064  0.009161 -0.019638  ... -0.005034  0.005123  0.999709   \n",
              "\n",
              "            PCA_44        PCA_45        PCA_46        PCA_47        PCA_48  \\\n",
              "0     2.360443e-12  9.931964e-13 -4.022981e-13  1.690585e-12 -1.559091e-12   \n",
              "1     2.360443e-12  9.931964e-13 -4.022981e-13  1.690598e-12 -1.559091e-12   \n",
              "2     2.360429e-12  9.931964e-13 -4.022981e-13  1.690585e-12 -1.559091e-12   \n",
              "3     2.360429e-12  9.931964e-13 -4.022981e-13  1.690585e-12 -1.559091e-12   \n",
              "4     2.360415e-12  9.931964e-13 -4.022981e-13  1.690585e-12 -1.559091e-12   \n",
              "...            ...           ...           ...           ...           ...   \n",
              "9995  2.357605e-12  9.815633e-13 -3.918690e-13  1.697333e-12 -1.566540e-12   \n",
              "9996  2.357591e-12  9.815772e-13 -3.918690e-13  1.697333e-12 -1.566540e-12   \n",
              "9997  2.357591e-12  9.815494e-13 -3.918412e-13  1.697346e-12 -1.566527e-12   \n",
              "9998  2.357591e-12  9.815494e-13 -3.918412e-13  1.697333e-12 -1.566527e-12   \n",
              "9999  2.357577e-12  9.815633e-13 -3.918412e-13  1.697333e-12 -1.566527e-12   \n",
              "\n",
              "            PCA_49        PCA_50  \n",
              "0     6.365321e-14 -5.291445e-13  \n",
              "1     6.365321e-14 -5.291445e-13  \n",
              "2     6.365321e-14 -5.291445e-13  \n",
              "3     6.365321e-14 -5.291445e-13  \n",
              "4     6.365321e-14 -5.291445e-13  \n",
              "...            ...           ...  \n",
              "9995  5.908048e-14 -5.255501e-13  \n",
              "9996  5.908048e-14 -5.255501e-13  \n",
              "9997  5.908048e-14 -5.255501e-13  \n",
              "9998  5.908048e-14 -5.255501e-13  \n",
              "9999  5.908048e-14 -5.255501e-13  \n",
              "\n",
              "[10000 rows x 50 columns]"
            ]
          },
          "execution_count": 33,
          "metadata": {},
          "output_type": "execute_result"
        }
      ],
      "source": [
        "# Transform all columns into float64\n",
        "for i in list(normal):\n",
        "    normal[i]=normal[i].apply(lambda x: str(x).replace(\",\" , \".\"))\n",
        "normal = normal.astype(float)\n",
        "normal"
      ]
    },
    {
      "cell_type": "markdown",
      "metadata": {
        "id": "35FR9dWeaHeL"
      },
      "source": [
        "## Attack"
      ]
    },
    {
      "cell_type": "code",
      "execution_count": 34,
      "metadata": {
        "colab": {
          "base_uri": "https://localhost:8080/"
        },
        "id": "X6kSn5dCZ0U0",
        "outputId": "f4cd4a75-3bab-4c0e-c153-2ef301f0d938"
      },
      "outputs": [
        {
          "data": {
            "text/plain": [
              "(10000, 50)"
            ]
          },
          "execution_count": 34,
          "metadata": {},
          "output_type": "execute_result"
        }
      ],
      "source": [
        "# attack = pd.read_csv(\"../Attack.csv\")#, nrows=1000)\n",
        "attack = pd.read_csv('../Preprocessing/attack_data_with_pca.csv', nrows=10000)\n",
        "\n",
        "labels = [ float(label!= 'Normal' ) for label  in attack[\"Normal/Attack\"].values]\n",
        "attack = attack.drop([\"Timestamp\" , \"Normal/Attack\" ] , axis = 1)\n",
        "attack.shape"
      ]
    },
    {
      "cell_type": "code",
      "execution_count": 35,
      "metadata": {
        "id": "y9WEm4mtZ7z7"
      },
      "outputs": [],
      "source": [
        "# Transform all columns into float64\n",
        "for i in list(attack):\n",
        "    attack[i]=attack[i].apply(lambda x: str(x).replace(\",\" , \".\"))\n",
        "attack = attack.astype(float)"
      ]
    },
    {
      "cell_type": "markdown",
      "metadata": {
        "id": "OMnlnZO3aPoi"
      },
      "source": [
        "## Windows"
      ]
    },
    {
      "cell_type": "code",
      "execution_count": 36,
      "metadata": {
        "id": "p-hGoFGuaWYs"
      },
      "outputs": [],
      "source": [
        "import numpy as np\n"
      ]
    },
    {
      "cell_type": "code",
      "execution_count": 37,
      "metadata": {
        "id": "2zBEIBWZaSBq"
      },
      "outputs": [],
      "source": [
        "window_size=10\n"
      ]
    },
    {
      "cell_type": "code",
      "execution_count": 38,
      "metadata": {
        "colab": {
          "base_uri": "https://localhost:8080/"
        },
        "id": "DWa4ULsNaTqq",
        "outputId": "fc55d6f5-e50a-4290-bfbf-83720dc43a82"
      },
      "outputs": [
        {
          "data": {
            "text/plain": [
              "(9990, 10, 50)"
            ]
          },
          "execution_count": 38,
          "metadata": {},
          "output_type": "execute_result"
        }
      ],
      "source": [
        "windows_normal=normal.values[np.arange(window_size)[None, :] + np.arange(normal.shape[0]-window_size)[:, None]]\n",
        "windows_normal.shape"
      ]
    },
    {
      "cell_type": "code",
      "execution_count": 39,
      "metadata": {
        "colab": {
          "base_uri": "https://localhost:8080/"
        },
        "id": "WSizRqRzaZPc",
        "outputId": "6f6ea0d2-b104-4e1d-b263-589e9b40ab17"
      },
      "outputs": [
        {
          "data": {
            "text/plain": [
              "(9990, 10, 50)"
            ]
          },
          "execution_count": 39,
          "metadata": {},
          "output_type": "execute_result"
        }
      ],
      "source": [
        "windows_attack=attack.values[np.arange(window_size)[None, :] + np.arange(attack.shape[0]-window_size)[:, None]]\n",
        "windows_attack.shape"
      ]
    },
    {
      "cell_type": "markdown",
      "metadata": {
        "id": "h7vnkyMQaccj"
      },
      "source": [
        "# Training\n"
      ]
    },
    {
      "cell_type": "code",
      "execution_count": 40,
      "metadata": {
        "id": "s6UepXQcadw6"
      },
      "outputs": [],
      "source": [
        "import torch.utils.data as data_utils\n",
        "\n",
        "BATCH_SIZE = 100\n",
        "N_EPOCHS = 100\n",
        "hidden_size = 100\n",
        "\n",
        "w_size=windows_normal.shape[1]*windows_normal.shape[2]\n",
        "z_size=windows_normal.shape[1]*hidden_size\n",
        "\n",
        "windows_normal_train = windows_normal[:int(np.floor(.8 *  windows_normal.shape[0]))]\n",
        "windows_normal_val = windows_normal[int(np.floor(.8 *  windows_normal.shape[0])):int(np.floor(windows_normal.shape[0]))]\n",
        "\n",
        "train_loader = torch.utils.data.DataLoader(data_utils.TensorDataset(\n",
        "    torch.from_numpy(windows_normal_train).float().view(([windows_normal_train.shape[0],w_size]))\n",
        ") , batch_size=BATCH_SIZE, shuffle=False, num_workers=0)\n",
        "\n",
        "val_loader = torch.utils.data.DataLoader(data_utils.TensorDataset(\n",
        "    torch.from_numpy(windows_normal_val).float().view(([windows_normal_val.shape[0],w_size]))\n",
        ") , batch_size=BATCH_SIZE, shuffle=False, num_workers=0)\n",
        "\n",
        "test_loader = torch.utils.data.DataLoader(data_utils.TensorDataset(\n",
        "    torch.from_numpy(windows_attack).float().view(([windows_attack.shape[0],w_size]))\n",
        ") , batch_size=BATCH_SIZE, shuffle=False, num_workers=0)\n",
        "\n",
        "model = UsadModel(w_size, z_size)\n",
        "model = to_device(model,device)"
      ]
    },
    {
      "cell_type": "code",
      "execution_count": 53,
      "metadata": {
        "colab": {
          "base_uri": "https://localhost:8080/"
        },
        "id": "8Oj_TnHxbZGs",
        "outputId": "09d6755a-d0f7-4598-e30c-75ad59e95d97"
      },
      "outputs": [
        {
          "name": "stdout",
          "output_type": "stream",
          "text": [
            "Epoch  0\n",
            "Epoch [0], val_loss1: 0.0524, val_loss2: 0.0525\n",
            "Epoch  1\n",
            "Epoch [1], val_loss1: 0.1152, val_loss2: -0.0626\n",
            "Epoch  2\n",
            "Epoch [2], val_loss1: 0.1552, val_loss2: -0.1208\n",
            "Epoch  3\n",
            "Epoch [3], val_loss1: 0.1664, val_loss2: -0.1406\n",
            "Epoch  4\n",
            "Epoch [4], val_loss1: 0.1746, val_loss2: -0.1538\n",
            "Epoch  5\n",
            "Epoch [5], val_loss1: 0.1825, val_loss2: -0.1652\n",
            "Epoch  6\n",
            "Epoch [6], val_loss1: 0.1924, val_loss2: -0.1776\n",
            "Epoch  7\n",
            "Epoch [7], val_loss1: 0.1954, val_loss2: -0.1826\n",
            "Epoch  8\n",
            "Epoch [8], val_loss1: 0.2009, val_loss2: -0.1894\n",
            "Epoch  9\n",
            "Epoch [9], val_loss1: 0.1987, val_loss2: -0.1884\n",
            "Epoch  10\n",
            "Epoch [10], val_loss1: 0.2129, val_loss2: -0.2035\n",
            "Epoch  11\n",
            "Epoch [11], val_loss1: 0.2127, val_loss2: -0.2041\n",
            "Epoch  12\n",
            "Epoch [12], val_loss1: 0.2114, val_loss2: -0.2035\n",
            "Epoch  13\n",
            "Epoch [13], val_loss1: 0.2109, val_loss2: -0.2036\n",
            "Epoch  14\n",
            "Epoch [14], val_loss1: 0.2121, val_loss2: -0.2053\n",
            "Epoch  15\n",
            "Epoch [15], val_loss1: 0.2137, val_loss2: -0.2073\n",
            "Epoch  16\n",
            "Epoch [16], val_loss1: 0.2183, val_loss2: -0.2123\n",
            "Epoch  17\n",
            "Epoch [17], val_loss1: 0.2188, val_loss2: -0.2132\n",
            "Epoch  18\n",
            "Epoch [18], val_loss1: 0.2194, val_loss2: -0.2141\n",
            "Epoch  19\n",
            "Epoch [19], val_loss1: 0.2198, val_loss2: -0.2148\n",
            "Epoch  20\n",
            "Epoch [20], val_loss1: 0.2202, val_loss2: -0.2154\n",
            "Epoch  21\n",
            "Epoch [21], val_loss1: 0.2207, val_loss2: -0.2161\n",
            "Epoch  22\n",
            "Epoch [22], val_loss1: 0.2209, val_loss2: -0.2166\n",
            "Epoch  23\n",
            "Epoch [23], val_loss1: 0.2391, val_loss2: -0.2345\n",
            "Epoch  24\n",
            "Epoch [24], val_loss1: 0.2411, val_loss2: -0.2369\n",
            "Epoch  25\n",
            "Epoch [25], val_loss1: 0.2414, val_loss2: -0.2374\n",
            "Epoch  26\n",
            "Epoch [26], val_loss1: 0.2417, val_loss2: -0.2378\n",
            "Epoch  27\n",
            "Epoch [27], val_loss1: 0.2419, val_loss2: -0.2383\n",
            "Epoch  28\n",
            "Epoch [28], val_loss1: 0.2422, val_loss2: -0.2387\n",
            "Epoch  29\n",
            "Epoch [29], val_loss1: 0.2424, val_loss2: -0.2390\n",
            "Epoch  30\n",
            "Epoch [30], val_loss1: 0.2444, val_loss2: -0.2412\n",
            "Epoch  31\n",
            "Epoch [31], val_loss1: 0.2446, val_loss2: -0.2415\n",
            "Epoch  32\n",
            "Epoch [32], val_loss1: 0.2448, val_loss2: -0.2417\n",
            "Epoch  33\n",
            "Epoch [33], val_loss1: 0.2450, val_loss2: -0.2420\n",
            "Epoch  34\n",
            "Epoch [34], val_loss1: 0.2451, val_loss2: -0.2423\n",
            "Epoch  35\n",
            "Epoch [35], val_loss1: 0.2453, val_loss2: -0.2425\n",
            "Epoch  36\n",
            "Epoch [36], val_loss1: 0.2454, val_loss2: -0.2427\n",
            "Epoch  37\n",
            "Epoch [37], val_loss1: 0.2456, val_loss2: -0.2430\n",
            "Epoch  38\n",
            "Epoch [38], val_loss1: 0.2457, val_loss2: -0.2432\n",
            "Epoch  39\n",
            "Epoch [39], val_loss1: 0.2458, val_loss2: -0.2434\n",
            "Epoch  40\n",
            "Epoch [40], val_loss1: 0.2459, val_loss2: -0.2436\n",
            "Epoch  41\n",
            "Epoch [41], val_loss1: 0.2460, val_loss2: -0.2438\n",
            "Epoch  42\n",
            "Epoch [42], val_loss1: 0.2460, val_loss2: -0.2440\n",
            "Epoch  43\n",
            "Epoch [43], val_loss1: 0.2461, val_loss2: -0.2442\n",
            "Epoch  44\n",
            "Epoch [44], val_loss1: 0.2462, val_loss2: -0.2443\n",
            "Epoch  45\n",
            "Epoch [45], val_loss1: 0.2464, val_loss2: -0.2445\n",
            "Epoch  46\n",
            "Epoch [46], val_loss1: 0.2464, val_loss2: -0.2446\n",
            "Epoch  47\n",
            "Epoch [47], val_loss1: 0.2465, val_loss2: -0.2447\n",
            "Epoch  48\n",
            "Epoch [48], val_loss1: 0.2466, val_loss2: -0.2448\n",
            "Epoch  49\n",
            "Epoch [49], val_loss1: 0.2467, val_loss2: -0.2450\n",
            "Epoch  50\n",
            "Epoch [50], val_loss1: 0.2468, val_loss2: -0.2451\n",
            "Epoch  51\n",
            "Epoch [51], val_loss1: 0.2469, val_loss2: -0.2452\n",
            "Epoch  52\n",
            "Epoch [52], val_loss1: 0.2469, val_loss2: -0.2453\n",
            "Epoch  53\n",
            "Epoch [53], val_loss1: 0.2470, val_loss2: -0.2454\n",
            "Epoch  54\n",
            "Epoch [54], val_loss1: 0.2471, val_loss2: -0.2455\n",
            "Epoch  55\n",
            "Epoch [55], val_loss1: 0.2471, val_loss2: -0.2456\n",
            "Epoch  56\n",
            "Epoch [56], val_loss1: 0.2472, val_loss2: -0.2457\n",
            "Epoch  57\n",
            "Epoch [57], val_loss1: 0.2473, val_loss2: -0.2458\n",
            "Epoch  58\n",
            "Epoch [58], val_loss1: 0.2473, val_loss2: -0.2459\n",
            "Epoch  59\n",
            "Epoch [59], val_loss1: 0.2474, val_loss2: -0.2459\n",
            "Epoch  60\n",
            "Epoch [60], val_loss1: 0.2474, val_loss2: -0.2460\n",
            "Epoch  61\n",
            "Epoch [61], val_loss1: 0.2475, val_loss2: -0.2461\n",
            "Epoch  62\n",
            "Epoch [62], val_loss1: 0.2475, val_loss2: -0.2462\n",
            "Epoch  63\n",
            "Epoch [63], val_loss1: 0.2476, val_loss2: -0.2463\n",
            "Epoch  64\n",
            "Epoch [64], val_loss1: 0.2476, val_loss2: -0.2463\n",
            "Epoch  65\n",
            "Epoch [65], val_loss1: 0.2477, val_loss2: -0.2464\n",
            "Epoch  66\n",
            "Epoch [66], val_loss1: 0.2477, val_loss2: -0.2465\n",
            "Epoch  67\n",
            "Epoch [67], val_loss1: 0.2478, val_loss2: -0.2465\n",
            "Epoch  68\n",
            "Epoch [68], val_loss1: 0.2478, val_loss2: -0.2466\n",
            "Epoch  69\n",
            "Epoch [69], val_loss1: 0.2479, val_loss2: -0.2467\n",
            "Epoch  70\n",
            "Epoch [70], val_loss1: 0.2408, val_loss2: -0.2396\n",
            "Epoch  71\n",
            "Epoch [71], val_loss1: 0.2481, val_loss2: -0.2467\n",
            "Epoch  72\n",
            "Epoch [72], val_loss1: 0.2480, val_loss2: -0.2468\n",
            "Epoch  73\n",
            "Epoch [73], val_loss1: 0.2643, val_loss2: -0.2631\n",
            "Epoch  74\n",
            "Epoch [74], val_loss1: 0.2643, val_loss2: -0.2632\n",
            "Epoch  75\n",
            "Epoch [75], val_loss1: 0.2644, val_loss2: -0.2632\n",
            "Epoch  76\n",
            "Epoch [76], val_loss1: 0.2644, val_loss2: -0.2633\n",
            "Epoch  77\n",
            "Epoch [77], val_loss1: 0.2644, val_loss2: -0.2634\n",
            "Epoch  78\n",
            "Epoch [78], val_loss1: 0.2645, val_loss2: -0.2634\n",
            "Epoch  79\n",
            "Epoch [79], val_loss1: 0.2645, val_loss2: -0.2635\n",
            "Epoch  80\n",
            "Epoch [80], val_loss1: 0.2645, val_loss2: -0.2635\n",
            "Epoch  81\n",
            "Epoch [81], val_loss1: 0.2646, val_loss2: -0.2636\n",
            "Epoch  82\n",
            "Epoch [82], val_loss1: 0.2646, val_loss2: -0.2636\n",
            "Epoch  83\n",
            "Epoch [83], val_loss1: 0.2646, val_loss2: -0.2637\n",
            "Epoch  84\n",
            "Epoch [84], val_loss1: 0.2647, val_loss2: -0.2637\n",
            "Epoch  85\n",
            "Epoch [85], val_loss1: 0.2647, val_loss2: -0.2637\n",
            "Epoch  86\n",
            "Epoch [86], val_loss1: 0.2647, val_loss2: -0.2638\n",
            "Epoch  87\n",
            "Epoch [87], val_loss1: 0.2648, val_loss2: -0.2638\n",
            "Epoch  88\n",
            "Epoch [88], val_loss1: 0.2648, val_loss2: -0.2639\n",
            "Epoch  89\n",
            "Epoch [89], val_loss1: 0.2648, val_loss2: -0.2639\n",
            "Epoch  90\n",
            "Epoch [90], val_loss1: 0.2648, val_loss2: -0.2639\n",
            "Epoch  91\n",
            "Epoch [91], val_loss1: 0.2649, val_loss2: -0.2640\n",
            "Epoch  92\n",
            "Epoch [92], val_loss1: 0.2649, val_loss2: -0.2640\n",
            "Epoch  93\n",
            "Epoch [93], val_loss1: 0.2649, val_loss2: -0.2640\n",
            "Epoch  94\n",
            "Epoch [94], val_loss1: 0.2649, val_loss2: -0.2641\n",
            "Epoch  95\n",
            "Epoch [95], val_loss1: 0.2650, val_loss2: -0.2641\n",
            "Epoch  96\n",
            "Epoch [96], val_loss1: 0.2650, val_loss2: -0.2641\n",
            "Epoch  97\n",
            "Epoch [97], val_loss1: 0.2650, val_loss2: -0.2642\n",
            "Epoch  98\n",
            "Epoch [98], val_loss1: 0.2650, val_loss2: -0.2642\n",
            "Epoch  99\n",
            "Epoch [99], val_loss1: 0.2651, val_loss2: -0.2642\n"
          ]
        }
      ],
      "source": [
        "history = training(100,model,train_loader,val_loader)"
      ]
    },
    {
      "cell_type": "code",
      "execution_count": 54,
      "metadata": {
        "colab": {
          "base_uri": "https://localhost:8080/",
          "height": 472
        },
        "id": "GilPekuUbdR-",
        "outputId": "20ff8a83-d38e-4437-d62d-dedd5735a68a"
      },
      "outputs": [
        {
          "data": {
            "image/png": "[encoded data removed]",
            "text/plain": [
              "<Figure size 640x480 with 1 Axes>"
            ]
          },
          "metadata": {},
          "output_type": "display_data"
        }
      ],
      "source": [
        "plot_history(history)\n"
      ]
    },
    {
      "cell_type": "code",
      "execution_count": 55,
      "metadata": {
        "colab": {
          "base_uri": "https://localhost:8080/"
        },
        "id": "NIZ16C8Sbinj",
        "outputId": "d11f0fc1-39cd-4916-b68f-84b6c885f902"
      },
      "outputs": [
        {
          "data": {
            "text/plain": [
              "UsadModel(\n",
              "  (encoder): Encoder(\n",
              "    (linear1): Linear(in_features=500, out_features=250, bias=True)\n",
              "    (linear2): Linear(in_features=250, out_features=125, bias=True)\n",
              "    (linear3): Linear(in_features=125, out_features=1000, bias=True)\n",
              "    (relu): ReLU(inplace=True)\n",
              "  )\n",
              "  (decoder1): Decoder(\n",
              "    (linear1): Linear(in_features=1000, out_features=125, bias=True)\n",
              "    (linear2): Linear(in_features=125, out_features=250, bias=True)\n",
              "    (linear3): Linear(in_features=250, out_features=500, bias=True)\n",
              "    (relu): ReLU(inplace=True)\n",
              "    (sigmoid): Sigmoid()\n",
              "  )\n",
              "  (decoder2): Decoder(\n",
              "    (linear1): Linear(in_features=1000, out_features=125, bias=True)\n",
              "    (linear2): Linear(in_features=125, out_features=250, bias=True)\n",
              "    (linear3): Linear(in_features=250, out_features=500, bias=True)\n",
              "    (relu): ReLU(inplace=True)\n",
              "    (sigmoid): Sigmoid()\n",
              "  )\n",
              ")"
            ]
          },
          "execution_count": 55,
          "metadata": {},
          "output_type": "execute_result"
        }
      ],
      "source": [
        "torch.save({\n",
        "            'encoder': model.encoder.state_dict(),\n",
        "            'decoder1': model.decoder1.state_dict(),\n",
        "            'decoder2': model.decoder2.state_dict()\n",
        "            }, \"model.pth\")\n",
        "\n",
        "model.eval()\n"
      ]
    },
    {
      "cell_type": "markdown",
      "metadata": {
        "id": "jvi76IWpZyfn"
      },
      "source": [
        "## Saving to ONNX"
      ]
    },
    {
      "cell_type": "code",
      "execution_count": 56,
      "metadata": {
        "id": "yFu6Q4M2ZX73"
      },
      "outputs": [],
      "source": [
        "# Ensure the device is set to the same device as the model\n",
        "device = torch.device(\"cuda:0\" if torch.cuda.is_available() else \"cpu\")\n",
        "\n",
        "# Move the model to the same device as the input\n",
        "model.to(device)\n",
        "\n",
        "# Generate dummy input on the same device as the model\n",
        "dummy_input = torch.randn(1, w_size).to(device)  # Adjust w_size as needed\n",
        "\n",
        "# Export the encoder to ONNX\n",
        "torch.onnx.export(\n",
        "    model.encoder,\n",
        "    dummy_input,\n",
        "    \"usad_encoder.onnx\",\n",
        "    export_params=True,\n",
        "    opset_version=11,\n",
        "    do_constant_folding=True,\n",
        "    input_names=['input'],\n",
        "    output_names=['latent'],\n",
        "    dynamic_axes={'input': {0: 'batch_size'}, 'latent': {0: 'batch_size'}}\n",
        ")\n",
        "\n",
        "# Export the encoder to ONNX\n",
        "torch.onnx.export(\n",
        "    model.decoder1,\n",
        "    torch.randn(1, 1000).to(device),\n",
        "    \"usad_decoder1.onnx\",\n",
        "    export_params=True,\n",
        "    opset_version=11,\n",
        "    do_constant_folding=True,\n",
        "    input_names=['input'],\n",
        "    output_names=['latent'],\n",
        "    dynamic_axes={'input': {0: 'batch_size'}, 'latent': {0: 'batch_size'}}\n",
        ")\n",
        "\n",
        "# Export the encoder to ONNX\n",
        "torch.onnx.export(\n",
        "    model.decoder2,\n",
        "    torch.randn(1, 1000).to(device),\n",
        "    \"usad_decoder2.onnx\",\n",
        "    export_params=True,\n",
        "    opset_version=11,\n",
        "    do_constant_folding=True,\n",
        "    input_names=['input'],\n",
        "    output_names=['latent'],\n",
        "    dynamic_axes={'input': {0: 'batch_size'}, 'latent': {0: 'batch_size'}}\n",
        ")\n"
      ]
    },
    {
      "cell_type": "code",
      "execution_count": 57,
      "metadata": {
        "colab": {
          "base_uri": "https://localhost:8080/"
        },
        "id": "cSZDp4D9bmW0",
        "outputId": "011b2e54-7d13-4cc8-8973-12ee44d0faa3"
      },
      "outputs": [
        {
          "data": {
            "text/plain": [
              "<All keys matched successfully>"
            ]
          },
          "execution_count": 57,
          "metadata": {},
          "output_type": "execute_result"
        }
      ],
      "source": [
        "checkpoint = torch.load(\"model.pth\")\n",
        "\n",
        "model.encoder.load_state_dict(checkpoint['encoder'])\n",
        "model.decoder1.load_state_dict(checkpoint['decoder1'])\n",
        "model.decoder2.load_state_dict(checkpoint['decoder2'])"
      ]
    },
    {
      "cell_type": "code",
      "execution_count": 58,
      "metadata": {
        "colab": {
          "base_uri": "https://localhost:8080/",
          "height": 449
        },
        "id": "ooQP5qt5dTfU",
        "outputId": "7f545606-98fc-448f-acba-30dcf2c5c44b"
      },
      "outputs": [
        {
          "data": {
            "image/png": "[encoded data removed]",
            "text/plain": [
              "<Figure size 640x480 with 1 Axes>"
            ]
          },
          "metadata": {},
          "output_type": "display_data"
        }
      ],
      "source": [
        "results=testing(model,test_loader)\n",
        "windows_labels=[]\n",
        "for i in range(len(labels)-window_size):\n",
        "    windows_labels.append(list(np.int_(labels[i:i+window_size])))\n",
        "\n",
        "y_test = [1.0 if (np.sum(window) > 0) else 0 for window in windows_labels ]\n",
        "\n",
        "y_pred=np.concatenate([torch.stack(results[:-1]).flatten().detach().cpu().numpy(),\n",
        "                              results[-1].flatten().detach().cpu().numpy()])\n",
        "\n",
        "threshold=ROC(y_test,y_pred)\n"
      ]
    }
  ],
  "metadata": {
    "accelerator": "GPU",
    "colab": {
      "gpuType": "T4",
      "provenance": []
    },
    "kernelspec": {
      "display_name": "dslab",
      "language": "python",
      "name": "python3"
    },
    "language_info": {
      "codemirror_mode": {
        "name": "ipython",
        "version": 3
      },
      "file_extension": ".py",
      "mimetype": "text/x-python",
      "name": "python",
      "nbconvert_exporter": "python",
      "pygments_lexer": "ipython3",
      "version": "3.12.2"
    }
  },
  "nbformat": 4,
  "nbformat_minor": 0
}

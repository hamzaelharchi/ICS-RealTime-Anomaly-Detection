{
  "cells": [
    {
      "cell_type": "code",
      "execution_count": 1,
      "metadata": {
        "id": "rfbk-en9Y7FM"
      },
      "outputs": [],
      "source": [
        "import numpy as np\n",
        "import pandas as pd\n",
        "import matplotlib.pyplot as plt\n",
        "import seaborn as sns\n",
        "import torch\n",
        "import torch.nn as nn\n",
        "\n",
        "# from utils import *\n",
        "# from usad import *"
      ]
    },
    {
      "cell_type": "markdown",
      "metadata": {
        "id": "p2nLAlp2a2Io"
      },
      "source": [
        "## Utils\n"
      ]
    },
    {
      "cell_type": "code",
      "execution_count": 3,
      "metadata": {
        "id": "bjPCrCnUa49i"
      },
      "outputs": [],
      "source": [
        "import numpy as np\n",
        "import pandas as pd\n",
        "import matplotlib.pyplot as plt\n",
        "import seaborn as sns\n",
        "import torch\n",
        "\n",
        "from sklearn.metrics import roc_curve,roc_auc_score\n",
        "\n",
        "def get_default_device():\n",
        "    \"\"\"Pick GPU if available, else CPU\"\"\"\n",
        "    if torch.cuda.is_available():\n",
        "        return torch.device('cuda')\n",
        "    else:\n",
        "        return torch.device('cpu')\n",
        "\n",
        "def to_device(data, device):\n",
        "    \"\"\"Move tensor(s) to chosen device\"\"\"\n",
        "    if isinstance(data, (list,tuple)):\n",
        "        return [to_device(x, device) for x in data]\n",
        "    return data.to(device, non_blocking=True)\n",
        "\n",
        "def plot_history(history):\n",
        "    losses1 = [x['val_loss1'] for x in history]\n",
        "    losses2 = [x['val_loss2'] for x in history]\n",
        "    plt.plot(losses1, '-x', label=\"loss1\")\n",
        "    plt.plot(losses2, '-x', label=\"loss2\")\n",
        "    plt.xlabel('epoch')\n",
        "    plt.ylabel('loss')\n",
        "    plt.legend()\n",
        "    plt.title('Losses vs. No. of epochs')\n",
        "    plt.grid()\n",
        "    plt.show()\n",
        "\n",
        "def histogram(y_test,y_pred):\n",
        "    plt.figure(figsize=(12,6))\n",
        "    plt.hist([y_pred[y_test==0],\n",
        "              y_pred[y_test==1]],\n",
        "            bins=20,\n",
        "            color = ['#82E0AA','#EC7063'],stacked=True)\n",
        "    plt.title(\"Results\",size=20)\n",
        "    plt.grid()\n",
        "    plt.show()\n",
        "\n",
        "def ROC(y_test,y_pred):\n",
        "    fpr,tpr,tr=roc_curve(y_test,y_pred)\n",
        "    auc=roc_auc_score(y_test,y_pred)\n",
        "    idx=np.argwhere(np.diff(np.sign(tpr-(1-fpr)))).flatten()\n",
        "\n",
        "    plt.xlabel(\"FPR\")\n",
        "    plt.ylabel(\"TPR\")\n",
        "    plt.plot(fpr,tpr,label=\"AUC=\"+str(auc))\n",
        "    plt.plot(fpr,1-fpr,'r:')\n",
        "    plt.plot(fpr[idx],tpr[idx], 'ro')\n",
        "    plt.legend(loc=4)\n",
        "    plt.grid()\n",
        "    plt.show()\n",
        "    return tr[idx]\n",
        "\n",
        "def confusion_matrix(target, predicted, perc=False):\n",
        "\n",
        "    data = {'y_Actual':    target,\n",
        "            'y_Predicted': predicted\n",
        "            }\n",
        "    df = pd.DataFrame(data, columns=['y_Predicted','y_Actual'])\n",
        "    confusion_matrix = pd.crosstab(df['y_Predicted'], df['y_Actual'], rownames=['Predicted'], colnames=['Actual'])\n",
        "\n",
        "    if perc:\n",
        "        sns.heatmap(confusion_matrix/np.sum(confusion_matrix), annot=True, fmt='.2%', cmap='Blues')\n",
        "    else:\n",
        "        sns.heatmap(confusion_matrix, annot=True, fmt='d')\n",
        "    plt.show()"
      ]
    },
    {
      "cell_type": "markdown",
      "metadata": {
        "id": "VNZsqBDJbBN8"
      },
      "source": [
        "## USAD model"
      ]
    },
    {
      "cell_type": "code",
      "execution_count": 4,
      "metadata": {
        "id": "p6CF4sEBbCvy"
      },
      "outputs": [],
      "source": [
        "import torch\n",
        "import torch.nn as nn\n",
        "\n",
        "# from utils import *\n",
        "device = get_default_device()\n",
        "\n",
        "class Encoder(nn.Module):\n",
        "  def __init__(self, in_size, latent_size):\n",
        "    super().__init__()\n",
        "    self.linear1 = nn.Linear(in_size, int(in_size/2))\n",
        "    self.linear2 = nn.Linear(int(in_size/2), int(in_size/4))\n",
        "    self.linear3 = nn.Linear(int(in_size/4), latent_size)\n",
        "    self.relu = nn.ReLU(True)\n",
        "\n",
        "  def forward(self, w):\n",
        "    out = self.linear1(w)\n",
        "    out = self.relu(out)\n",
        "    out = self.linear2(out)\n",
        "    out = self.relu(out)\n",
        "    out = self.linear3(out)\n",
        "    z = self.relu(out)\n",
        "    return z\n",
        "\n",
        "class Decoder(nn.Module):\n",
        "  def __init__(self, latent_size, out_size):\n",
        "    super().__init__()\n",
        "    self.linear1 = nn.Linear(latent_size, int(out_size/4))\n",
        "    self.linear2 = nn.Linear(int(out_size/4), int(out_size/2))\n",
        "    self.linear3 = nn.Linear(int(out_size/2), out_size)\n",
        "    self.relu = nn.ReLU(True)\n",
        "    self.sigmoid = nn.Sigmoid()\n",
        "\n",
        "  def forward(self, z):\n",
        "    out = self.linear1(z)\n",
        "    out = self.relu(out)\n",
        "    out = self.linear2(out)\n",
        "    out = self.relu(out)\n",
        "    out = self.linear3(out)\n",
        "    w = self.sigmoid(out)\n",
        "    return w\n",
        "\n",
        "class UsadModel(nn.Module):\n",
        "  def __init__(self, w_size, z_size):\n",
        "    super().__init__()\n",
        "    self.encoder = Encoder(w_size, z_size)\n",
        "    self.decoder1 = Decoder(z_size, w_size)\n",
        "    self.decoder2 = Decoder(z_size, w_size)\n",
        "\n",
        "  def training_step(self, batch, n):\n",
        "    z = self.encoder(batch)\n",
        "    w1 = self.decoder1(z)\n",
        "    w2 = self.decoder2(z)\n",
        "    w3 = self.decoder2(self.encoder(w1))\n",
        "    loss1 = 1/n*torch.mean((batch-w1)**2)+(1-1/n)*torch.mean((batch-w3)**2)\n",
        "    loss2 = 1/n*torch.mean((batch-w2)**2)-(1-1/n)*torch.mean((batch-w3)**2)\n",
        "    return loss1,loss2\n",
        "\n",
        "  def validation_step(self, batch, n):\n",
        "    with torch.no_grad():\n",
        "        z = self.encoder(batch)\n",
        "        w1 = self.decoder1(z)\n",
        "        w2 = self.decoder2(z)\n",
        "        w3 = self.decoder2(self.encoder(w1))\n",
        "        loss1 = 1/n*torch.mean((batch-w1)**2)+(1-1/n)*torch.mean((batch-w3)**2)\n",
        "        loss2 = 1/n*torch.mean((batch-w2)**2)-(1-1/n)*torch.mean((batch-w3)**2)\n",
        "    return {'val_loss1': loss1, 'val_loss2': loss2}\n",
        "\n",
        "  def validation_epoch_end(self, outputs):\n",
        "    batch_losses1 = [x['val_loss1'] for x in outputs]\n",
        "    epoch_loss1 = torch.stack(batch_losses1).mean()\n",
        "    batch_losses2 = [x['val_loss2'] for x in outputs]\n",
        "    epoch_loss2 = torch.stack(batch_losses2).mean()\n",
        "    return {'val_loss1': epoch_loss1.item(), 'val_loss2': epoch_loss2.item()}\n",
        "\n",
        "  def epoch_end(self, epoch, result):\n",
        "    print(\"Epoch [{}], val_loss1: {:.4f}, val_loss2: {:.4f}\".format(epoch, result['val_loss1'], result['val_loss2']))\n",
        "\n",
        "def evaluate(model, val_loader, n):\n",
        "    outputs = [model.validation_step(to_device(batch,device), n) for [batch] in val_loader]\n",
        "    return model.validation_epoch_end(outputs)\n",
        "\n",
        "def training(epochs, model, train_loader, val_loader, opt_func=torch.optim.Adam):\n",
        "    history = []\n",
        "    optimizer1 = opt_func(list(model.encoder.parameters())+list(model.decoder1.parameters()))\n",
        "    optimizer2 = opt_func(list(model.encoder.parameters())+list(model.decoder2.parameters()))\n",
        "    for epoch in range(epochs):\n",
        "        print(f'Epoch ', epoch)\n",
        "        for [batch] in train_loader:\n",
        "            batch=to_device(batch,device)\n",
        "\n",
        "            #Train AE1\n",
        "            loss1,loss2 = model.training_step(batch,epoch+1)\n",
        "            loss1.backward()\n",
        "            optimizer1.step()\n",
        "            optimizer1.zero_grad()\n",
        "\n",
        "\n",
        "            #Train AE2\n",
        "            loss1,loss2 = model.training_step(batch,epoch+1)\n",
        "            loss2.backward()\n",
        "            optimizer2.step()\n",
        "            optimizer2.zero_grad()\n",
        "\n",
        "\n",
        "        result = evaluate(model, val_loader, epoch+1)\n",
        "        model.epoch_end(epoch, result)\n",
        "        history.append(result)\n",
        "    return history\n",
        "\n",
        "def testing(model, test_loader, alpha=.5, beta=.5):\n",
        "    results=[]\n",
        "    with torch.no_grad():\n",
        "        for [batch] in test_loader:\n",
        "            batch=to_device(batch,device)\n",
        "            w1=model.decoder1(model.encoder(batch))\n",
        "            w2=model.decoder2(model.encoder(w1))\n",
        "            results.append(alpha*torch.mean((batch-w1)**2,axis=1)+beta*torch.mean((batch-w2)**2,axis=1))\n",
        "    return results"
      ]
    },
    {
      "cell_type": "markdown",
      "metadata": {
        "id": "-_UVZ3CvaD73"
      },
      "source": [
        "## Normal"
      ]
    },
    {
      "cell_type": "code",
      "execution_count": 15,
      "metadata": {
        "colab": {
          "base_uri": "https://localhost:8080/"
        },
        "id": "Uf6dp0uEY5O8",
        "outputId": "f3b5457a-42a5-4858-a185-fda48dd31914"
      },
      "outputs": [
        {
          "data": {
            "text/plain": [
              "(10000, 103)"
            ]
          },
          "execution_count": 15,
          "metadata": {},
          "output_type": "execute_result"
        }
      ],
      "source": [
        "# normal = pd.read_csv(\"../Normal.csv\", nrows=10000)\n",
        "normal = pd.read_csv('../preprocessed_normal_data.csv', nrows=10000)\n",
        "normal = normal.drop([\"Timestamp\" , \"Normal/Attack\" ] , axis = 1)\n",
        "normal.shape"
      ]
    },
    {
      "cell_type": "code",
      "execution_count": 16,
      "metadata": {
        "colab": {
          "base_uri": "https://localhost:8080/",
          "height": 1000
        },
        "id": "qEshzmh36sSX",
        "outputId": "74e5a74d-b07e-4f76-e71d-4eb6d4dc4a4a"
      },
      "outputs": [
        {
          "name": "stderr",
          "output_type": "stream",
          "text": [
            "c:\\Users\\Dell\\anaconda3\\envs\\dslab1\\Lib\\site-packages\\numpy\\core\\fromnumeric.py:3603: FutureWarning: The behavior of DataFrame.std with axis=None is deprecated, in a future version this will reduce over both axes and return a scalar. To retain the old behavior, pass axis=0 (or do not pass axis)\n",
            "  return std(axis=axis, dtype=dtype, out=out, ddof=ddof, **kwargs)\n"
          ]
        },
        {
          "data": {
            "text/plain": [
              "FIT101    1.151307\n",
              "LIT101    0.249203\n",
              "AIT201    0.598198\n",
              "AIT202    0.742643\n",
              "AIT203    0.835790\n",
              "            ...   \n",
              "P602_1    0.289491\n",
              "P602_2    0.289491\n",
              "P603_0    0.000000\n",
              "P603_1    0.000000\n",
              "P603_2    0.000000\n",
              "Length: 103, dtype: float64"
            ]
          },
          "execution_count": 16,
          "metadata": {},
          "output_type": "execute_result"
        }
      ],
      "source": [
        "threshold_cusum = 3 * np.std(normal)\n",
        "threshold_cusum"
      ]
    },
    {
      "cell_type": "code",
      "execution_count": 17,
      "metadata": {
        "colab": {
          "base_uri": "https://localhost:8080/",
          "height": 423
        },
        "id": "1tjQZGptZc5U",
        "outputId": "af9b4176-e1b2-47f7-ad8b-5acab37c6c5c"
      },
      "outputs": [
        {
          "data": {
            "text/html": [
              "<div>\n",
              "<style scoped>\n",
              "    .dataframe tbody tr th:only-of-type {\n",
              "        vertical-align: middle;\n",
              "    }\n",
              "\n",
              "    .dataframe tbody tr th {\n",
              "        vertical-align: top;\n",
              "    }\n",
              "\n",
              "    .dataframe thead th {\n",
              "        text-align: right;\n",
              "    }\n",
              "</style>\n",
              "<table border=\"1\" class=\"dataframe\">\n",
              "  <thead>\n",
              "    <tr style=\"text-align: right;\">\n",
              "      <th></th>\n",
              "      <th>FIT101</th>\n",
              "      <th>LIT101</th>\n",
              "      <th>AIT201</th>\n",
              "      <th>AIT202</th>\n",
              "      <th>AIT203</th>\n",
              "      <th>FIT201</th>\n",
              "      <th>DPIT301</th>\n",
              "      <th>FIT301</th>\n",
              "      <th>LIT301</th>\n",
              "      <th>AIT401</th>\n",
              "      <th>...</th>\n",
              "      <th>P502_2</th>\n",
              "      <th>P601_0</th>\n",
              "      <th>P601_1</th>\n",
              "      <th>P601_2</th>\n",
              "      <th>P602_0</th>\n",
              "      <th>P602_1</th>\n",
              "      <th>P602_2</th>\n",
              "      <th>P603_0</th>\n",
              "      <th>P603_1</th>\n",
              "      <th>P603_2</th>\n",
              "    </tr>\n",
              "  </thead>\n",
              "  <tbody>\n",
              "    <tr>\n",
              "      <th>0</th>\n",
              "      <td>0.899895</td>\n",
              "      <td>0.160292</td>\n",
              "      <td>0.000000</td>\n",
              "      <td>0.000000</td>\n",
              "      <td>0.019710</td>\n",
              "      <td>0.993304</td>\n",
              "      <td>0.985738</td>\n",
              "      <td>0.947643</td>\n",
              "      <td>0.220683</td>\n",
              "      <td>0.0</td>\n",
              "      <td>...</td>\n",
              "      <td>0.0</td>\n",
              "      <td>0.0</td>\n",
              "      <td>1.0</td>\n",
              "      <td>0.0</td>\n",
              "      <td>0.0</td>\n",
              "      <td>1.0</td>\n",
              "      <td>0.0</td>\n",
              "      <td>0.0</td>\n",
              "      <td>1.0</td>\n",
              "      <td>0.0</td>\n",
              "    </tr>\n",
              "    <tr>\n",
              "      <th>1</th>\n",
              "      <td>0.895111</td>\n",
              "      <td>0.159845</td>\n",
              "      <td>0.000000</td>\n",
              "      <td>0.000000</td>\n",
              "      <td>0.019710</td>\n",
              "      <td>0.992222</td>\n",
              "      <td>0.985738</td>\n",
              "      <td>0.947317</td>\n",
              "      <td>0.220683</td>\n",
              "      <td>0.0</td>\n",
              "      <td>...</td>\n",
              "      <td>0.0</td>\n",
              "      <td>0.0</td>\n",
              "      <td>1.0</td>\n",
              "      <td>0.0</td>\n",
              "      <td>0.0</td>\n",
              "      <td>1.0</td>\n",
              "      <td>0.0</td>\n",
              "      <td>0.0</td>\n",
              "      <td>1.0</td>\n",
              "      <td>0.0</td>\n",
              "    </tr>\n",
              "    <tr>\n",
              "      <th>2</th>\n",
              "      <td>0.888694</td>\n",
              "      <td>0.159533</td>\n",
              "      <td>0.000000</td>\n",
              "      <td>0.000000</td>\n",
              "      <td>0.019710</td>\n",
              "      <td>0.991707</td>\n",
              "      <td>0.987862</td>\n",
              "      <td>0.946828</td>\n",
              "      <td>0.220683</td>\n",
              "      <td>0.0</td>\n",
              "      <td>...</td>\n",
              "      <td>0.0</td>\n",
              "      <td>0.0</td>\n",
              "      <td>1.0</td>\n",
              "      <td>0.0</td>\n",
              "      <td>0.0</td>\n",
              "      <td>1.0</td>\n",
              "      <td>0.0</td>\n",
              "      <td>0.0</td>\n",
              "      <td>1.0</td>\n",
              "      <td>0.0</td>\n",
              "    </tr>\n",
              "    <tr>\n",
              "      <th>3</th>\n",
              "      <td>0.884611</td>\n",
              "      <td>0.158819</td>\n",
              "      <td>0.000000</td>\n",
              "      <td>0.000000</td>\n",
              "      <td>0.019710</td>\n",
              "      <td>0.991398</td>\n",
              "      <td>0.987862</td>\n",
              "      <td>0.946828</td>\n",
              "      <td>0.220501</td>\n",
              "      <td>0.0</td>\n",
              "      <td>...</td>\n",
              "      <td>0.0</td>\n",
              "      <td>0.0</td>\n",
              "      <td>1.0</td>\n",
              "      <td>0.0</td>\n",
              "      <td>0.0</td>\n",
              "      <td>1.0</td>\n",
              "      <td>0.0</td>\n",
              "      <td>0.0</td>\n",
              "      <td>1.0</td>\n",
              "      <td>0.0</td>\n",
              "    </tr>\n",
              "    <tr>\n",
              "      <th>4</th>\n",
              "      <td>0.883327</td>\n",
              "      <td>0.158372</td>\n",
              "      <td>0.003408</td>\n",
              "      <td>0.000000</td>\n",
              "      <td>0.019710</td>\n",
              "      <td>0.991398</td>\n",
              "      <td>0.987862</td>\n",
              "      <td>0.946828</td>\n",
              "      <td>0.220365</td>\n",
              "      <td>0.0</td>\n",
              "      <td>...</td>\n",
              "      <td>0.0</td>\n",
              "      <td>0.0</td>\n",
              "      <td>1.0</td>\n",
              "      <td>0.0</td>\n",
              "      <td>0.0</td>\n",
              "      <td>1.0</td>\n",
              "      <td>0.0</td>\n",
              "      <td>0.0</td>\n",
              "      <td>1.0</td>\n",
              "      <td>0.0</td>\n",
              "    </tr>\n",
              "    <tr>\n",
              "      <th>...</th>\n",
              "      <td>...</td>\n",
              "      <td>...</td>\n",
              "      <td>...</td>\n",
              "      <td>...</td>\n",
              "      <td>...</td>\n",
              "      <td>...</td>\n",
              "      <td>...</td>\n",
              "      <td>...</td>\n",
              "      <td>...</td>\n",
              "      <td>...</td>\n",
              "      <td>...</td>\n",
              "      <td>...</td>\n",
              "      <td>...</td>\n",
              "      <td>...</td>\n",
              "      <td>...</td>\n",
              "      <td>...</td>\n",
              "      <td>...</td>\n",
              "      <td>...</td>\n",
              "      <td>...</td>\n",
              "      <td>...</td>\n",
              "      <td>...</td>\n",
              "    </tr>\n",
              "    <tr>\n",
              "      <th>9995</th>\n",
              "      <td>0.910162</td>\n",
              "      <td>0.247959</td>\n",
              "      <td>0.679544</td>\n",
              "      <td>0.514652</td>\n",
              "      <td>0.822998</td>\n",
              "      <td>0.993664</td>\n",
              "      <td>0.939918</td>\n",
              "      <td>0.932435</td>\n",
              "      <td>0.733763</td>\n",
              "      <td>0.0</td>\n",
              "      <td>...</td>\n",
              "      <td>0.0</td>\n",
              "      <td>0.0</td>\n",
              "      <td>1.0</td>\n",
              "      <td>0.0</td>\n",
              "      <td>0.0</td>\n",
              "      <td>1.0</td>\n",
              "      <td>0.0</td>\n",
              "      <td>0.0</td>\n",
              "      <td>1.0</td>\n",
              "      <td>0.0</td>\n",
              "    </tr>\n",
              "    <tr>\n",
              "      <th>9996</th>\n",
              "      <td>0.906079</td>\n",
              "      <td>0.247512</td>\n",
              "      <td>0.679544</td>\n",
              "      <td>0.497792</td>\n",
              "      <td>0.822998</td>\n",
              "      <td>0.993458</td>\n",
              "      <td>0.936884</td>\n",
              "      <td>0.932707</td>\n",
              "      <td>0.733581</td>\n",
              "      <td>0.0</td>\n",
              "      <td>...</td>\n",
              "      <td>0.0</td>\n",
              "      <td>0.0</td>\n",
              "      <td>1.0</td>\n",
              "      <td>0.0</td>\n",
              "      <td>0.0</td>\n",
              "      <td>1.0</td>\n",
              "      <td>0.0</td>\n",
              "      <td>0.0</td>\n",
              "      <td>1.0</td>\n",
              "      <td>0.0</td>\n",
              "    </tr>\n",
              "    <tr>\n",
              "      <th>9997</th>\n",
              "      <td>0.901412</td>\n",
              "      <td>0.247155</td>\n",
              "      <td>0.679544</td>\n",
              "      <td>0.475310</td>\n",
              "      <td>0.823863</td>\n",
              "      <td>0.993458</td>\n",
              "      <td>0.936884</td>\n",
              "      <td>0.933793</td>\n",
              "      <td>0.733445</td>\n",
              "      <td>0.0</td>\n",
              "      <td>...</td>\n",
              "      <td>0.0</td>\n",
              "      <td>0.0</td>\n",
              "      <td>1.0</td>\n",
              "      <td>0.0</td>\n",
              "      <td>0.0</td>\n",
              "      <td>1.0</td>\n",
              "      <td>0.0</td>\n",
              "      <td>0.0</td>\n",
              "      <td>1.0</td>\n",
              "      <td>0.0</td>\n",
              "    </tr>\n",
              "    <tr>\n",
              "      <th>9998</th>\n",
              "      <td>0.894995</td>\n",
              "      <td>0.246530</td>\n",
              "      <td>0.679544</td>\n",
              "      <td>0.458449</td>\n",
              "      <td>0.823959</td>\n",
              "      <td>0.993458</td>\n",
              "      <td>0.936884</td>\n",
              "      <td>0.933793</td>\n",
              "      <td>0.733218</td>\n",
              "      <td>0.0</td>\n",
              "      <td>...</td>\n",
              "      <td>0.0</td>\n",
              "      <td>0.0</td>\n",
              "      <td>1.0</td>\n",
              "      <td>0.0</td>\n",
              "      <td>0.0</td>\n",
              "      <td>1.0</td>\n",
              "      <td>0.0</td>\n",
              "      <td>0.0</td>\n",
              "      <td>1.0</td>\n",
              "      <td>0.0</td>\n",
              "    </tr>\n",
              "    <tr>\n",
              "      <th>9999</th>\n",
              "      <td>0.890094</td>\n",
              "      <td>0.246307</td>\n",
              "      <td>0.679544</td>\n",
              "      <td>0.447209</td>\n",
              "      <td>0.823959</td>\n",
              "      <td>0.992943</td>\n",
              "      <td>0.935215</td>\n",
              "      <td>0.933793</td>\n",
              "      <td>0.733672</td>\n",
              "      <td>0.0</td>\n",
              "      <td>...</td>\n",
              "      <td>0.0</td>\n",
              "      <td>0.0</td>\n",
              "      <td>1.0</td>\n",
              "      <td>0.0</td>\n",
              "      <td>0.0</td>\n",
              "      <td>1.0</td>\n",
              "      <td>0.0</td>\n",
              "      <td>0.0</td>\n",
              "      <td>1.0</td>\n",
              "      <td>0.0</td>\n",
              "    </tr>\n",
              "  </tbody>\n",
              "</table>\n",
              "<p>10000 rows × 103 columns</p>\n",
              "</div>"
            ],
            "text/plain": [
              "        FIT101    LIT101    AIT201    AIT202    AIT203    FIT201   DPIT301  \\\n",
              "0     0.899895  0.160292  0.000000  0.000000  0.019710  0.993304  0.985738   \n",
              "1     0.895111  0.159845  0.000000  0.000000  0.019710  0.992222  0.985738   \n",
              "2     0.888694  0.159533  0.000000  0.000000  0.019710  0.991707  0.987862   \n",
              "3     0.884611  0.158819  0.000000  0.000000  0.019710  0.991398  0.987862   \n",
              "4     0.883327  0.158372  0.003408  0.000000  0.019710  0.991398  0.987862   \n",
              "...        ...       ...       ...       ...       ...       ...       ...   \n",
              "9995  0.910162  0.247959  0.679544  0.514652  0.822998  0.993664  0.939918   \n",
              "9996  0.906079  0.247512  0.679544  0.497792  0.822998  0.993458  0.936884   \n",
              "9997  0.901412  0.247155  0.679544  0.475310  0.823863  0.993458  0.936884   \n",
              "9998  0.894995  0.246530  0.679544  0.458449  0.823959  0.993458  0.936884   \n",
              "9999  0.890094  0.246307  0.679544  0.447209  0.823959  0.992943  0.935215   \n",
              "\n",
              "        FIT301    LIT301  AIT401  ...  P502_2  P601_0  P601_1  P601_2  P602_0  \\\n",
              "0     0.947643  0.220683     0.0  ...     0.0     0.0     1.0     0.0     0.0   \n",
              "1     0.947317  0.220683     0.0  ...     0.0     0.0     1.0     0.0     0.0   \n",
              "2     0.946828  0.220683     0.0  ...     0.0     0.0     1.0     0.0     0.0   \n",
              "3     0.946828  0.220501     0.0  ...     0.0     0.0     1.0     0.0     0.0   \n",
              "4     0.946828  0.220365     0.0  ...     0.0     0.0     1.0     0.0     0.0   \n",
              "...        ...       ...     ...  ...     ...     ...     ...     ...     ...   \n",
              "9995  0.932435  0.733763     0.0  ...     0.0     0.0     1.0     0.0     0.0   \n",
              "9996  0.932707  0.733581     0.0  ...     0.0     0.0     1.0     0.0     0.0   \n",
              "9997  0.933793  0.733445     0.0  ...     0.0     0.0     1.0     0.0     0.0   \n",
              "9998  0.933793  0.733218     0.0  ...     0.0     0.0     1.0     0.0     0.0   \n",
              "9999  0.933793  0.733672     0.0  ...     0.0     0.0     1.0     0.0     0.0   \n",
              "\n",
              "      P602_1  P602_2  P603_0  P603_1  P603_2  \n",
              "0        1.0     0.0     0.0     1.0     0.0  \n",
              "1        1.0     0.0     0.0     1.0     0.0  \n",
              "2        1.0     0.0     0.0     1.0     0.0  \n",
              "3        1.0     0.0     0.0     1.0     0.0  \n",
              "4        1.0     0.0     0.0     1.0     0.0  \n",
              "...      ...     ...     ...     ...     ...  \n",
              "9995     1.0     0.0     0.0     1.0     0.0  \n",
              "9996     1.0     0.0     0.0     1.0     0.0  \n",
              "9997     1.0     0.0     0.0     1.0     0.0  \n",
              "9998     1.0     0.0     0.0     1.0     0.0  \n",
              "9999     1.0     0.0     0.0     1.0     0.0  \n",
              "\n",
              "[10000 rows x 103 columns]"
            ]
          },
          "execution_count": 17,
          "metadata": {},
          "output_type": "execute_result"
        }
      ],
      "source": [
        "# Transform all columns into float64\n",
        "for i in list(normal):\n",
        "    normal[i]=normal[i].apply(lambda x: str(x).replace(\",\" , \".\"))\n",
        "normal = normal.astype(float)\n",
        "normal"
      ]
    },
    {
      "cell_type": "markdown",
      "metadata": {
        "id": "35FR9dWeaHeL"
      },
      "source": [
        "## Attack"
      ]
    },
    {
      "cell_type": "code",
      "execution_count": 26,
      "metadata": {
        "colab": {
          "base_uri": "https://localhost:8080/"
        },
        "id": "X6kSn5dCZ0U0",
        "outputId": "f4cd4a75-3bab-4c0e-c153-2ef301f0d938"
      },
      "outputs": [
        {
          "data": {
            "text/plain": [
              "(10000, 103)"
            ]
          },
          "execution_count": 26,
          "metadata": {},
          "output_type": "execute_result"
        }
      ],
      "source": [
        "# attack = pd.read_csv(\"../Attack.csv\")#, nrows=1000)\n",
        "attack = pd.read_csv('../preprocessed_attack_data.csv', nrows=10000)\n",
        "\n",
        "labels = [ float(label!= 'Normal' ) for label  in attack[\"Normal/Attack\"].values]\n",
        "attack = attack.drop([\"Timestamp\" , \"Normal/Attack\" ] , axis = 1)\n",
        "attack.shape"
      ]
    },
    {
      "cell_type": "code",
      "execution_count": 27,
      "metadata": {
        "id": "y9WEm4mtZ7z7"
      },
      "outputs": [],
      "source": [
        "# Transform all columns into float64\n",
        "for i in list(attack):\n",
        "    attack[i]=attack[i].apply(lambda x: str(x).replace(\",\" , \".\"))\n",
        "attack = attack.astype(float)"
      ]
    },
    {
      "cell_type": "markdown",
      "metadata": {
        "id": "OMnlnZO3aPoi"
      },
      "source": [
        "## Windows"
      ]
    },
    {
      "cell_type": "code",
      "execution_count": 28,
      "metadata": {
        "id": "p-hGoFGuaWYs"
      },
      "outputs": [],
      "source": [
        "import numpy as np\n"
      ]
    },
    {
      "cell_type": "code",
      "execution_count": 19,
      "metadata": {
        "id": "2zBEIBWZaSBq"
      },
      "outputs": [],
      "source": [
        "window_size=10\n"
      ]
    },
    {
      "cell_type": "code",
      "execution_count": 29,
      "metadata": {
        "colab": {
          "base_uri": "https://localhost:8080/"
        },
        "id": "DWa4ULsNaTqq",
        "outputId": "fc55d6f5-e50a-4290-bfbf-83720dc43a82"
      },
      "outputs": [
        {
          "data": {
            "text/plain": [
              "(9990, 10, 103)"
            ]
          },
          "execution_count": 29,
          "metadata": {},
          "output_type": "execute_result"
        }
      ],
      "source": [
        "windows_normal=normal.values[np.arange(window_size)[None, :] + np.arange(normal.shape[0]-window_size)[:, None]]\n",
        "windows_normal.shape"
      ]
    },
    {
      "cell_type": "code",
      "execution_count": 30,
      "metadata": {
        "colab": {
          "base_uri": "https://localhost:8080/"
        },
        "id": "WSizRqRzaZPc",
        "outputId": "6f6ea0d2-b104-4e1d-b263-589e9b40ab17"
      },
      "outputs": [
        {
          "data": {
            "text/plain": [
              "(9990, 10, 103)"
            ]
          },
          "execution_count": 30,
          "metadata": {},
          "output_type": "execute_result"
        }
      ],
      "source": [
        "windows_attack=attack.values[np.arange(window_size)[None, :] + np.arange(attack.shape[0]-window_size)[:, None]]\n",
        "windows_attack.shape"
      ]
    },
    {
      "cell_type": "markdown",
      "metadata": {
        "id": "h7vnkyMQaccj"
      },
      "source": [
        "# Training\n"
      ]
    },
    {
      "cell_type": "code",
      "execution_count": 31,
      "metadata": {
        "id": "s6UepXQcadw6"
      },
      "outputs": [],
      "source": [
        "import torch.utils.data as data_utils\n",
        "\n",
        "BATCH_SIZE = 100\n",
        "N_EPOCHS = 100\n",
        "hidden_size = 100\n",
        "\n",
        "w_size=windows_normal.shape[1]*windows_normal.shape[2]\n",
        "z_size=windows_normal.shape[1]*hidden_size\n",
        "\n",
        "windows_normal_train = windows_normal[:int(np.floor(.8 *  windows_normal.shape[0]))]\n",
        "windows_normal_val = windows_normal[int(np.floor(.8 *  windows_normal.shape[0])):int(np.floor(windows_normal.shape[0]))]\n",
        "\n",
        "train_loader = torch.utils.data.DataLoader(data_utils.TensorDataset(\n",
        "    torch.from_numpy(windows_normal_train).float().view(([windows_normal_train.shape[0],w_size]))\n",
        ") , batch_size=BATCH_SIZE, shuffle=False, num_workers=0)\n",
        "\n",
        "val_loader = torch.utils.data.DataLoader(data_utils.TensorDataset(\n",
        "    torch.from_numpy(windows_normal_val).float().view(([windows_normal_val.shape[0],w_size]))\n",
        ") , batch_size=BATCH_SIZE, shuffle=False, num_workers=0)\n",
        "\n",
        "test_loader = torch.utils.data.DataLoader(data_utils.TensorDataset(\n",
        "    torch.from_numpy(windows_attack).float().view(([windows_attack.shape[0],w_size]))\n",
        ") , batch_size=BATCH_SIZE, shuffle=False, num_workers=0)\n",
        "\n",
        "model = UsadModel(w_size, z_size)\n",
        "model = to_device(model,device)"
      ]
    },
    {
      "cell_type": "code",
      "execution_count": 32,
      "metadata": {
        "colab": {
          "base_uri": "https://localhost:8080/"
        },
        "id": "8Oj_TnHxbZGs",
        "outputId": "09d6755a-d0f7-4598-e30c-75ad59e95d97"
      },
      "outputs": [
        {
          "name": "stdout",
          "output_type": "stream",
          "text": [
            "Epoch  0\n",
            "Epoch [0], val_loss1: 0.3147, val_loss2: 0.3126\n",
            "Epoch  1\n",
            "Epoch [1], val_loss1: 0.3130, val_loss2: 0.0000\n"
          ]
        }
      ],
      "source": [
        "history = training(2,model,train_loader,val_loader)"
      ]
    },
    {
      "cell_type": "code",
      "execution_count": 33,
      "metadata": {
        "colab": {
          "base_uri": "https://localhost:8080/",
          "height": 472
        },
        "id": "GilPekuUbdR-",
        "outputId": "20ff8a83-d38e-4437-d62d-dedd5735a68a"
      },
      "outputs": [
        {
          "data": {
            "image/png": "[encoded data removed]",
            "text/plain": [
              "<Figure size 640x480 with 1 Axes>"
            ]
          },
          "metadata": {},
          "output_type": "display_data"
        }
      ],
      "source": [
        "plot_history(history)\n"
      ]
    },
    {
      "cell_type": "code",
      "execution_count": 39,
      "metadata": {
        "colab": {
          "base_uri": "https://localhost:8080/"
        },
        "id": "NIZ16C8Sbinj",
        "outputId": "d11f0fc1-39cd-4916-b68f-84b6c885f902"
      },
      "outputs": [
        {
          "data": {
            "text/plain": [
              "UsadModel(\n",
              "  (encoder): Encoder(\n",
              "    (linear1): Linear(in_features=1030, out_features=515, bias=True)\n",
              "    (linear2): Linear(in_features=515, out_features=257, bias=True)\n",
              "    (linear3): Linear(in_features=257, out_features=1000, bias=True)\n",
              "    (relu): ReLU(inplace=True)\n",
              "  )\n",
              "  (decoder1): Decoder(\n",
              "    (linear1): Linear(in_features=1000, out_features=257, bias=True)\n",
              "    (linear2): Linear(in_features=257, out_features=515, bias=True)\n",
              "    (linear3): Linear(in_features=515, out_features=1030, bias=True)\n",
              "    (relu): ReLU(inplace=True)\n",
              "    (sigmoid): Sigmoid()\n",
              "  )\n",
              "  (decoder2): Decoder(\n",
              "    (linear1): Linear(in_features=1000, out_features=257, bias=True)\n",
              "    (linear2): Linear(in_features=257, out_features=515, bias=True)\n",
              "    (linear3): Linear(in_features=515, out_features=1030, bias=True)\n",
              "    (relu): ReLU(inplace=True)\n",
              "    (sigmoid): Sigmoid()\n",
              "  )\n",
              ")"
            ]
          },
          "execution_count": 39,
          "metadata": {},
          "output_type": "execute_result"
        }
      ],
      "source": [
        "torch.save({\n",
        "            'encoder': model.encoder.state_dict(),\n",
        "            'decoder1': model.decoder1.state_dict(),\n",
        "            'decoder2': model.decoder2.state_dict()\n",
        "            }, \"model.pth\")\n",
        "\n",
        "model.eval()\n"
      ]
    },
    {
      "cell_type": "markdown",
      "metadata": {
        "id": "jvi76IWpZyfn"
      },
      "source": [
        "## Saving to ONNX"
      ]
    },
    {
      "cell_type": "code",
      "execution_count": 35,
      "metadata": {
        "colab": {
          "base_uri": "https://localhost:8080/"
        },
        "id": "rlr3Pugedxf-",
        "outputId": "6c2b308a-9976-4c14-935c-3be1ba4d3616"
      },
      "outputs": [
        {
          "name": "stdout",
          "output_type": "stream",
          "text": [
            "Collecting onnxruntime\n",
            "  Downloading onnxruntime-1.20.1-cp311-cp311-win_amd64.whl.metadata (4.7 kB)\n",
            "Collecting coloredlogs (from onnxruntime)\n",
            "  Downloading coloredlogs-15.0.1-py2.py3-none-any.whl.metadata (12 kB)\n",
            "Collecting flatbuffers (from onnxruntime)\n",
            "  Downloading flatbuffers-24.3.25-py2.py3-none-any.whl.metadata (850 bytes)\n",
            "Requirement already satisfied: numpy>=1.21.6 in c:\\users\\dell\\anaconda3\\envs\\dslab1\\lib\\site-packages (from onnxruntime) (1.24.3)\n",
            "Requirement already satisfied: packaging in c:\\users\\dell\\anaconda3\\envs\\dslab1\\lib\\site-packages (from onnxruntime) (23.1)\n",
            "Collecting protobuf (from onnxruntime)\n",
            "  Downloading protobuf-5.29.1-cp310-abi3-win_amd64.whl.metadata (592 bytes)\n",
            "Requirement already satisfied: sympy in c:\\users\\dell\\anaconda3\\envs\\dslab1\\lib\\site-packages (from onnxruntime) (1.12)\n",
            "Collecting humanfriendly>=9.1 (from coloredlogs->onnxruntime)\n",
            "  Downloading humanfriendly-10.0-py2.py3-none-any.whl.metadata (9.2 kB)\n",
            "Requirement already satisfied: mpmath>=0.19 in c:\\users\\dell\\anaconda3\\envs\\dslab1\\lib\\site-packages (from sympy->onnxruntime) (1.3.0)\n",
            "Collecting pyreadline3 (from humanfriendly>=9.1->coloredlogs->onnxruntime)\n",
            "  Downloading pyreadline3-3.5.4-py3-none-any.whl.metadata (4.7 kB)\n",
            "Downloading onnxruntime-1.20.1-cp311-cp311-win_amd64.whl (11.3 MB)\n",
            "   ---------------------------------------- 0.0/11.3 MB ? eta -:--:--\n",
            "   ---------------------------------------- 0.1/11.3 MB 1.5 MB/s eta 0:00:08\n",
            "   - -------------------------------------- 0.5/11.3 MB 5.3 MB/s eta 0:00:03\n",
            "   --- ------------------------------------ 1.1/11.3 MB 8.5 MB/s eta 0:00:02\n",
            "   ------ --------------------------------- 1.8/11.3 MB 10.4 MB/s eta 0:00:01\n",
            "   --------- ------------------------------ 2.7/11.3 MB 11.6 MB/s eta 0:00:01\n",
            "   ------------ --------------------------- 3.5/11.3 MB 12.5 MB/s eta 0:00:01\n",
            "   -------------- ------------------------- 4.0/11.3 MB 13.5 MB/s eta 0:00:01\n",
            "   -------------- ------------------------- 4.2/11.3 MB 11.7 MB/s eta 0:00:01\n",
            "   ------------------ --------------------- 5.3/11.3 MB 13.1 MB/s eta 0:00:01\n",
            "   --------------------- ------------------ 6.1/11.3 MB 13.1 MB/s eta 0:00:01\n",
            "   ----------------------- ---------------- 6.6/11.3 MB 13.2 MB/s eta 0:00:01\n",
            "   --------------------------- ------------ 7.7/11.3 MB 13.8 MB/s eta 0:00:01\n",
            "   -------------------------------- ------- 9.2/11.3 MB 15.1 MB/s eta 0:00:01\n",
            "   ------------------------------------ --- 10.4/11.3 MB 17.2 MB/s eta 0:00:01\n",
            "   ---------------------------------------  11.3/11.3 MB 17.7 MB/s eta 0:00:01\n",
            "   ---------------------------------------  11.3/11.3 MB 17.7 MB/s eta 0:00:01\n",
            "   ---------------------------------------- 11.3/11.3 MB 15.2 MB/s eta 0:00:00\n",
            "Downloading coloredlogs-15.0.1-py2.py3-none-any.whl (46 kB)\n",
            "   ---------------------------------------- 0.0/46.0 kB ? eta -:--:--\n",
            "   ---------------------------------------- 46.0/46.0 kB 2.2 MB/s eta 0:00:00\n",
            "Downloading flatbuffers-24.3.25-py2.py3-none-any.whl (26 kB)\n",
            "Downloading protobuf-5.29.1-cp310-abi3-win_amd64.whl (434 kB)\n",
            "   ---------------------------------------- 0.0/434.5 kB ? eta -:--:--\n",
            "   --------------------------------------- 434.5/434.5 kB 13.3 MB/s eta 0:00:00\n",
            "Downloading humanfriendly-10.0-py2.py3-none-any.whl (86 kB)\n",
            "   ---------------------------------------- 0.0/86.8 kB ? eta -:--:--\n",
            "   ---------------------------------------- 86.8/86.8 kB 5.1 MB/s eta 0:00:00\n",
            "Downloading pyreadline3-3.5.4-py3-none-any.whl (83 kB)\n",
            "   ---------------------------------------- 0.0/83.2 kB ? eta -:--:--\n",
            "   ---------------------------------------- 83.2/83.2 kB 4.6 MB/s eta 0:00:00\n",
            "Installing collected packages: flatbuffers, pyreadline3, protobuf, humanfriendly, coloredlogs, onnxruntime\n",
            "Successfully installed coloredlogs-15.0.1 flatbuffers-24.3.25 humanfriendly-10.0 onnxruntime-1.20.1 protobuf-5.29.1 pyreadline3-3.5.4\n",
            "Collecting onnx\n",
            "  Downloading onnx-1.17.0-cp311-cp311-win_amd64.whl.metadata (16 kB)\n",
            "Requirement already satisfied: numpy>=1.20 in c:\\users\\dell\\anaconda3\\envs\\dslab1\\lib\\site-packages (from onnx) (1.24.3)\n",
            "Requirement already satisfied: protobuf>=3.20.2 in c:\\users\\dell\\anaconda3\\envs\\dslab1\\lib\\site-packages (from onnx) (5.29.1)\n",
            "Downloading onnx-1.17.0-cp311-cp311-win_amd64.whl (14.5 MB)\n",
            "   ---------------------------------------- 0.0/14.5 MB ? eta -:--:--\n",
            "   ---------------------------------------- 0.0/14.5 MB ? eta -:--:--\n",
            "   ---------------------------------------- 0.0/14.5 MB 660.6 kB/s eta 0:00:22\n",
            "   ---------------------------------------- 0.1/14.5 MB 1.1 MB/s eta 0:00:14\n",
            "   - -------------------------------------- 0.5/14.5 MB 4.2 MB/s eta 0:00:04\n",
            "   --- ------------------------------------ 1.4/14.5 MB 7.8 MB/s eta 0:00:02\n",
            "   ------ --------------------------------- 2.5/14.5 MB 11.2 MB/s eta 0:00:02\n",
            "   ---------- ----------------------------- 3.7/14.5 MB 14.0 MB/s eta 0:00:01\n",
            "   ------------- -------------------------- 4.8/14.5 MB 15.3 MB/s eta 0:00:01\n",
            "   ----------------- ---------------------- 6.2/14.5 MB 17.2 MB/s eta 0:00:01\n",
            "   ------------------- -------------------- 7.2/14.5 MB 17.8 MB/s eta 0:00:01\n",
            "   ----------------------- ---------------- 8.5/14.5 MB 18.8 MB/s eta 0:00:01\n",
            "   ------------------------- -------------- 9.4/14.5 MB 18.7 MB/s eta 0:00:01\n",
            "   --------------------------- ------------ 9.8/14.5 MB 18.5 MB/s eta 0:00:01\n",
            "   ---------------------------- ----------- 10.2/14.5 MB 17.2 MB/s eta 0:00:01\n",
            "   ------------------------------- -------- 11.4/14.5 MB 21.8 MB/s eta 0:00:01\n",
            "   --------------------------------- ------ 12.3/14.5 MB 21.8 MB/s eta 0:00:01\n",
            "   ------------------------------------- -- 13.6/14.5 MB 21.1 MB/s eta 0:00:01\n",
            "   ---------------------------------------  14.5/14.5 MB 21.8 MB/s eta 0:00:01\n",
            "   ---------------------------------------- 14.5/14.5 MB 20.5 MB/s eta 0:00:00\n",
            "Installing collected packages: onnx\n",
            "Successfully installed onnx-1.17.0\n"
          ]
        }
      ],
      "source": [
        "!pip install onnxruntime\n",
        "!pip install onnx\n"
      ]
    },
    {
      "cell_type": "code",
      "execution_count": 36,
      "metadata": {
        "id": "yFu6Q4M2ZX73"
      },
      "outputs": [],
      "source": [
        "# Ensure the device is set to the same device as the model\n",
        "device = torch.device(\"cuda:0\" if torch.cuda.is_available() else \"cpu\")\n",
        "\n",
        "# Move the model to the same device as the input\n",
        "model.to(device)\n",
        "\n",
        "# Generate dummy input on the same device as the model\n",
        "dummy_input = torch.randn(1, w_size).to(device)  # Adjust w_size as needed\n",
        "\n",
        "# Export the encoder to ONNX\n",
        "torch.onnx.export(\n",
        "    model.encoder,\n",
        "    dummy_input,\n",
        "    \"usad_encoder.onnx\",\n",
        "    export_params=True,\n",
        "    opset_version=11,\n",
        "    do_constant_folding=True,\n",
        "    input_names=['input'],\n",
        "    output_names=['latent'],\n",
        "    dynamic_axes={'input': {0: 'batch_size'}, 'latent': {0: 'batch_size'}}\n",
        ")\n",
        "\n",
        "# Export the encoder to ONNX\n",
        "torch.onnx.export(\n",
        "    model.decoder1,\n",
        "    torch.randn(1, 1000).to(device),\n",
        "    \"usad_decoder1.onnx\",\n",
        "    export_params=True,\n",
        "    opset_version=11,\n",
        "    do_constant_folding=True,\n",
        "    input_names=['input'],\n",
        "    output_names=['latent'],\n",
        "    dynamic_axes={'input': {0: 'batch_size'}, 'latent': {0: 'batch_size'}}\n",
        ")\n",
        "\n",
        "# Export the encoder to ONNX\n",
        "torch.onnx.export(\n",
        "    model.decoder2,\n",
        "    torch.randn(1, 1000).to(device),\n",
        "    \"usad_decoder2.onnx\",\n",
        "    export_params=True,\n",
        "    opset_version=11,\n",
        "    do_constant_folding=True,\n",
        "    input_names=['input'],\n",
        "    output_names=['latent'],\n",
        "    dynamic_axes={'input': {0: 'batch_size'}, 'latent': {0: 'batch_size'}}\n",
        ")\n"
      ]
    },
    {
      "cell_type": "code",
      "execution_count": 40,
      "metadata": {
        "colab": {
          "base_uri": "https://localhost:8080/"
        },
        "id": "cSZDp4D9bmW0",
        "outputId": "011b2e54-7d13-4cc8-8973-12ee44d0faa3"
      },
      "outputs": [
        {
          "data": {
            "text/plain": [
              "<All keys matched successfully>"
            ]
          },
          "execution_count": 40,
          "metadata": {},
          "output_type": "execute_result"
        }
      ],
      "source": [
        "checkpoint = torch.load(\"model.pth\")\n",
        "\n",
        "model.encoder.load_state_dict(checkpoint['encoder'])\n",
        "model.decoder1.load_state_dict(checkpoint['decoder1'])\n",
        "model.decoder2.load_state_dict(checkpoint['decoder2'])"
      ]
    },
    {
      "cell_type": "code",
      "execution_count": 41,
      "metadata": {
        "colab": {
          "base_uri": "https://localhost:8080/",
          "height": 449
        },
        "id": "ooQP5qt5dTfU",
        "outputId": "7f545606-98fc-448f-acba-30dcf2c5c44b"
      },
      "outputs": [
        {
          "data": {
            "image/png": "[encoded data removed]",
            "text/plain": [
              "<Figure size 640x480 with 1 Axes>"
            ]
          },
          "metadata": {},
          "output_type": "display_data"
        }
      ],
      "source": [
        "results=testing(model,test_loader)\n",
        "windows_labels=[]\n",
        "for i in range(len(labels)-window_size):\n",
        "    windows_labels.append(list(np.int_(labels[i:i+window_size])))\n",
        "\n",
        "y_test = [1.0 if (np.sum(window) > 0) else 0 for window in windows_labels ]\n",
        "\n",
        "y_pred=np.concatenate([torch.stack(results[:-1]).flatten().detach().cpu().numpy(),\n",
        "                              results[-1].flatten().detach().cpu().numpy()])\n",
        "\n",
        "threshold=ROC(y_test,y_pred)\n"
      ]
    }
  ],
  "metadata": {
    "accelerator": "GPU",
    "colab": {
      "gpuType": "T4",
      "provenance": []
    },
    "kernelspec": {
      "display_name": "dslab1",
      "language": "python",
      "name": "python3"
    },
    "language_info": {
      "codemirror_mode": {
        "name": "ipython",
        "version": 3
      },
      "file_extension": ".py",
      "mimetype": "text/x-python",
      "name": "python",
      "nbconvert_exporter": "python",
      "pygments_lexer": "ipython3",
      "version": "3.11.8"
    }
  },
  "nbformat": 4,
  "nbformat_minor": 0
}
